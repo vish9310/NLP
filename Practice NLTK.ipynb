{
 "cells": [
  {
   "cell_type": "code",
   "execution_count": 16,
   "metadata": {},
   "outputs": [
    {
     "name": "stderr",
     "output_type": "stream",
     "text": [
      "[nltk_data] Downloading package gutenberg to\n",
      "[nltk_data]     C:\\Users\\Lenovo\\AppData\\Roaming\\nltk_data...\n",
      "[nltk_data]   Package gutenberg is already up-to-date!\n",
      "[nltk_data] Downloading package genesis to\n",
      "[nltk_data]     C:\\Users\\Lenovo\\AppData\\Roaming\\nltk_data...\n",
      "[nltk_data]   Package genesis is already up-to-date!\n",
      "[nltk_data] Downloading package inaugural to\n",
      "[nltk_data]     C:\\Users\\Lenovo\\AppData\\Roaming\\nltk_data...\n",
      "[nltk_data]   Package inaugural is already up-to-date!\n",
      "[nltk_data] Downloading package nps_chat to\n",
      "[nltk_data]     C:\\Users\\Lenovo\\AppData\\Roaming\\nltk_data...\n",
      "[nltk_data]   Package nps_chat is already up-to-date!\n",
      "[nltk_data] Downloading package webtext to\n",
      "[nltk_data]     C:\\Users\\Lenovo\\AppData\\Roaming\\nltk_data...\n",
      "[nltk_data]   Package webtext is already up-to-date!\n",
      "[nltk_data] Downloading package treebank to\n",
      "[nltk_data]     C:\\Users\\Lenovo\\AppData\\Roaming\\nltk_data...\n",
      "[nltk_data]   Unzipping corpora\\treebank.zip.\n"
     ]
    },
    {
     "data": {
      "text/plain": [
       "True"
      ]
     },
     "execution_count": 16,
     "metadata": {},
     "output_type": "execute_result"
    }
   ],
   "source": [
    "import nltk\n",
    "import nltk\n",
    "nltk.download('gutenberg')\n",
    "nltk.download('genesis')\n",
    "nltk.download('inaugural')\n",
    "nltk.download('nps_chat')\n",
    "nltk.download('webtext')\n",
    "nltk.download('treebank')"
   ]
  },
  {
   "cell_type": "code",
   "execution_count": 17,
   "metadata": {},
   "outputs": [
    {
     "name": "stdout",
     "output_type": "stream",
     "text": [
      "*** Introductory Examples for the NLTK Book ***\n",
      "Loading text1, ..., text9 and sent1, ..., sent9\n",
      "Type the name of the text or sentence to view it.\n",
      "Type: 'texts()' or 'sents()' to list the materials.\n",
      "text1: Moby Dick by Herman Melville 1851\n",
      "text2: Sense and Sensibility by Jane Austen 1811\n",
      "text3: The Book of Genesis\n",
      "text4: Inaugural Address Corpus\n",
      "text5: Chat Corpus\n",
      "text6: Monty Python and the Holy Grail\n",
      "text7: Wall Street Journal\n",
      "text8: Personals Corpus\n",
      "text9: The Man Who Was Thursday by G . K . Chesterton 1908\n"
     ]
    }
   ],
   "source": [
    "from nltk.book import *"
   ]
  },
  {
   "cell_type": "code",
   "execution_count": 19,
   "metadata": {},
   "outputs": [
    {
     "data": {
      "text/plain": [
       "<Text: Moby Dick by Herman Melville 1851>"
      ]
     },
     "execution_count": 19,
     "metadata": {},
     "output_type": "execute_result"
    }
   ],
   "source": [
    "text1"
   ]
  },
  {
   "cell_type": "code",
   "execution_count": 20,
   "metadata": {},
   "outputs": [
    {
     "data": {
      "text/plain": [
       "<Text: Sense and Sensibility by Jane Austen 1811>"
      ]
     },
     "execution_count": 20,
     "metadata": {},
     "output_type": "execute_result"
    }
   ],
   "source": [
    "text2"
   ]
  },
  {
   "cell_type": "code",
   "execution_count": 21,
   "metadata": {},
   "outputs": [
    {
     "name": "stdout",
     "output_type": "stream",
     "text": [
      "Displaying 11 of 11 matches:\n",
      "ong the former , one was of a most monstrous size . ... This came towards us , \n",
      "ON OF THE PSALMS . \" Touching that monstrous bulk of the whale or ork we have r\n",
      "ll over with a heathenish array of monstrous clubs and spears . Some were thick\n",
      "d as you gazed , and wondered what monstrous cannibal and savage could ever hav\n",
      "that has survived the flood ; most monstrous and most mountainous ! That Himmal\n",
      "they might scout at Moby Dick as a monstrous fable , or still worse and more de\n",
      "th of Radney .'\" CHAPTER 55 Of the Monstrous Pictures of Whales . I shall ere l\n",
      "ing Scenes . In connexion with the monstrous pictures of whales , I am strongly\n",
      "ere to enter upon those still more monstrous stories of them which are to be fo\n",
      "ght have been rummaged out of this monstrous cabinet there is no telling . But \n",
      "of Whale - Bones ; for Whales of a monstrous size are oftentimes cast up dead u\n"
     ]
    }
   ],
   "source": [
    "text1.concordance(\"monstrous\")"
   ]
  },
  {
   "cell_type": "code",
   "execution_count": 22,
   "metadata": {},
   "outputs": [
    {
     "name": "stdout",
     "output_type": "stream",
     "text": [
      "Displaying 12 of 12 matches:\n",
      "former , one was of a most monstrous size . ... This came towards us , open - \n",
      "m for one . He is of moderate octavo size , varying from fifteen to twenty - f\n",
      "bullies -- Take some one of your own size ; don ' t pommel ME ! No , ye ' ve k\n",
      "t , where a wooden pin or skewer the size of a common quill , prevents it from\n",
      "he meat is made into balls about the size of billiard balls , and being well s\n",
      "aining vertebrae the canal tapers in size , but for a considerable distance re\n",
      "coloured bunch or protuberance , the size of a bushel , low down on the flank \n",
      ". Two thick squares of wood of equal size are stoutly clenched together , so t\n",
      "ss , and for the rest , is about the size of the iron part of a hoe . Edgewise\n",
      "n of a Sperm Whale , but of moderate size , by no means of the full - grown ma\n",
      " - Bones ; for Whales of a monstrous size are oftentimes cast up dead upon tha\n",
      "g to its latter formations exceed in size those of its earlier ones . Of all t\n"
     ]
    }
   ],
   "source": [
    "text1.concordance(\"size\")"
   ]
  },
  {
   "cell_type": "code",
   "execution_count": 24,
   "metadata": {},
   "outputs": [
    {
     "name": "stdout",
     "output_type": "stream",
     "text": [
      "true contemptible christian abundant few part mean careful puzzled\n",
      "mystifying passing curious loving wise doleful gamesome singular\n",
      "delightfully perilous fearless\n"
     ]
    }
   ],
   "source": [
    "text1.similar(\"monstrous\")"
   ]
  },
  {
   "cell_type": "code",
   "execution_count": 26,
   "metadata": {},
   "outputs": [
    {
     "name": "stdout",
     "output_type": "stream",
     "text": [
      "very so exceedingly heartily a as good great extremely remarkably\n",
      "sweet vast amazingly\n"
     ]
    }
   ],
   "source": [
    "text2.similar(\"monstrous\")"
   ]
  },
  {
   "cell_type": "code",
   "execution_count": 34,
   "metadata": {},
   "outputs": [
    {
     "ename": "TypeError",
     "evalue": "'method' object is not subscriptable",
     "output_type": "error",
     "traceback": [
      "\u001b[1;31m---------------------------------------------------------------------------\u001b[0m",
      "\u001b[1;31mTypeError\u001b[0m                                 Traceback (most recent call last)",
      "\u001b[1;32m<ipython-input-34-6fad610245e5>\u001b[0m in \u001b[0;36m<module>\u001b[1;34m\u001b[0m\n\u001b[1;32m----> 1\u001b[1;33m \u001b[0mtext2\u001b[0m\u001b[1;33m.\u001b[0m\u001b[0mcommon_contexts\u001b[0m\u001b[1;33m[\u001b[0m\u001b[1;33m[\u001b[0m\u001b[1;34m\"monstrous\"\u001b[0m\u001b[1;33m,\u001b[0m\u001b[1;34m\"very\"\u001b[0m\u001b[1;33m]\u001b[0m\u001b[1;33m]\u001b[0m\u001b[1;33m\u001b[0m\u001b[1;33m\u001b[0m\u001b[0m\n\u001b[0m",
      "\u001b[1;31mTypeError\u001b[0m: 'method' object is not subscriptable"
     ]
    }
   ],
   "source": [
    "text2.common_contexts[[\"monstrous\",\"very\"]]"
   ]
  },
  {
   "cell_type": "code",
   "execution_count": 35,
   "metadata": {},
   "outputs": [
    {
     "ename": "TypeError",
     "evalue": "generate() missing 1 required positional argument: 'words'",
     "output_type": "error",
     "traceback": [
      "\u001b[1;31m---------------------------------------------------------------------------\u001b[0m",
      "\u001b[1;31mTypeError\u001b[0m                                 Traceback (most recent call last)",
      "\u001b[1;32m<ipython-input-35-c387abad61be>\u001b[0m in \u001b[0;36m<module>\u001b[1;34m\u001b[0m\n\u001b[1;32m----> 1\u001b[1;33m \u001b[0mtext2\u001b[0m\u001b[1;33m.\u001b[0m\u001b[0mgenerate\u001b[0m\u001b[1;33m(\u001b[0m\u001b[1;33m)\u001b[0m\u001b[1;33m\u001b[0m\u001b[1;33m\u001b[0m\u001b[0m\n\u001b[0m",
      "\u001b[1;31mTypeError\u001b[0m: generate() missing 1 required positional argument: 'words'"
     ]
    }
   ],
   "source": [
    "text2.generate()"
   ]
  },
  {
   "cell_type": "code",
   "execution_count": 36,
   "metadata": {},
   "outputs": [],
   "source": [
    "import numpy as np\n",
    "import pandas as pd"
   ]
  },
  {
   "cell_type": "code",
   "execution_count": 38,
   "metadata": {},
   "outputs": [
    {
     "data": {
      "text/plain": [
       "16.050197203298673"
      ]
     },
     "execution_count": 38,
     "metadata": {},
     "output_type": "execute_result"
    }
   ],
   "source": [
    "len(text3)/len(set(text3))"
   ]
  },
  {
   "cell_type": "code",
   "execution_count": 1,
   "metadata": {},
   "outputs": [],
   "source": [
    "a = [i for i in ['Uncle' , ' Steven', 'Has','a','Gun']]"
   ]
  },
  {
   "cell_type": "code",
   "execution_count": 5,
   "metadata": {},
   "outputs": [],
   "source": [
    "b=[i.lower() for i in a]"
   ]
  },
  {
   "cell_type": "code",
   "execution_count": 6,
   "metadata": {},
   "outputs": [
    {
     "data": {
      "text/plain": [
       "['uncle', ' steven', 'has', 'a', 'gun']"
      ]
     },
     "execution_count": 6,
     "metadata": {},
     "output_type": "execute_result"
    }
   ],
   "source": [
    "b"
   ]
  },
  {
   "cell_type": "markdown",
   "metadata": {},
   "source": [
    "# Web Scrapping"
   ]
  },
  {
   "cell_type": "code",
   "execution_count": 10,
   "metadata": {},
   "outputs": [],
   "source": [
    "%matplotlib inline\n",
    "import matplotlib.pyplot as plt\n",
    "import requests\n",
    "from bs4 import BeautifulSoup"
   ]
  },
  {
   "cell_type": "code",
   "execution_count": 11,
   "metadata": {},
   "outputs": [],
   "source": [
    "url='http://www.gutenberg.org/files/15784/15784-0.txt'"
   ]
  },
  {
   "cell_type": "code",
   "execution_count": 12,
   "metadata": {},
   "outputs": [],
   "source": [
    "response=requests.get(url)"
   ]
  },
  {
   "cell_type": "code",
   "execution_count": 13,
   "metadata": {},
   "outputs": [
    {
     "data": {
      "text/plain": [
       "requests.models.Response"
      ]
     },
     "execution_count": 13,
     "metadata": {},
     "output_type": "execute_result"
    }
   ],
   "source": [
    "type(response)"
   ]
  },
  {
   "cell_type": "code",
   "execution_count": 14,
   "metadata": {},
   "outputs": [
    {
     "data": {
      "text/plain": [
       "<Response [200]>"
      ]
     },
     "execution_count": 14,
     "metadata": {},
     "output_type": "execute_result"
    }
   ],
   "source": [
    "response"
   ]
  },
  {
   "cell_type": "code",
   "execution_count": 15,
   "metadata": {},
   "outputs": [],
   "source": [
    "soup_dos = BeautifulSoup(response.content,'html.parser')"
   ]
  },
  {
   "cell_type": "code",
   "execution_count": 16,
   "metadata": {},
   "outputs": [
    {
     "data": {
      "text/plain": [
       "1"
      ]
     },
     "execution_count": 16,
     "metadata": {},
     "output_type": "execute_result"
    }
   ],
   "source": [
    "len(soup_dos)"
   ]
  },
  {
   "cell_type": "code",
   "execution_count": 17,
   "metadata": {},
   "outputs": [],
   "source": [
    "doc_text=soup_dos.get_text()"
   ]
  },
  {
   "cell_type": "code",
   "execution_count": 18,
   "metadata": {},
   "outputs": [
    {
     "data": {
      "text/plain": [
       "str"
      ]
     },
     "execution_count": 18,
     "metadata": {},
     "output_type": "execute_result"
    }
   ],
   "source": [
    "type(doc_text)"
   ]
  },
  {
   "cell_type": "code",
   "execution_count": 19,
   "metadata": {},
   "outputs": [
    {
     "data": {
      "text/plain": [
       "550878"
      ]
     },
     "execution_count": 19,
     "metadata": {},
     "output_type": "execute_result"
    }
   ],
   "source": [
    "len(doc_text)"
   ]
  },
  {
   "cell_type": "code",
   "execution_count": 20,
   "metadata": {},
   "outputs": [
    {
     "data": {
      "text/plain": [
       "'The Project Gutenberg EBook of The Chronology of Ancient Kingdoms Amended\\r\\nby Isaac Newton\\r\\n\\r\\nThis e'"
      ]
     },
     "execution_count": 20,
     "metadata": {},
     "output_type": "execute_result"
    }
   ],
   "source": [
    "doc_text[:100]"
   ]
  },
  {
   "cell_type": "markdown",
   "metadata": {},
   "source": [
    "# Cleaning the Data"
   ]
  },
  {
   "cell_type": "code",
   "execution_count": 21,
   "metadata": {},
   "outputs": [],
   "source": [
    "import re"
   ]
  },
  {
   "cell_type": "code",
   "execution_count": 29,
   "metadata": {},
   "outputs": [],
   "source": [
    "a = 'Who know Johny Depp was an undercover police office (with Richard Grecol)1'\n",
    "ds='[Dd]\\w+'"
   ]
  },
  {
   "cell_type": "code",
   "execution_count": 30,
   "metadata": {},
   "outputs": [
    {
     "data": {
      "text/plain": [
       "['Depp', 'dercover']"
      ]
     },
     "execution_count": 30,
     "metadata": {},
     "output_type": "execute_result"
    }
   ],
   "source": [
    "re.findall(ds, a)"
   ]
  },
  {
   "cell_type": "code",
   "execution_count": 31,
   "metadata": {},
   "outputs": [],
   "source": [
    "words=re.findall('\\w+',doc_text)"
   ]
  },
  {
   "cell_type": "code",
   "execution_count": 33,
   "metadata": {},
   "outputs": [
    {
     "data": {
      "text/plain": [
       "['The',\n",
       " 'Project',\n",
       " 'Gutenberg',\n",
       " 'EBook',\n",
       " 'of',\n",
       " 'The',\n",
       " 'Chronology',\n",
       " 'of',\n",
       " 'Ancient',\n",
       " 'Kingdoms']"
      ]
     },
     "execution_count": 33,
     "metadata": {},
     "output_type": "execute_result"
    }
   ],
   "source": [
    "words[:10]"
   ]
  },
  {
   "cell_type": "markdown",
   "metadata": {},
   "source": [
    "# Tokenize\n",
    "#Tuning the Document into collection of the individual items--Words"
   ]
  },
  {
   "cell_type": "code",
   "execution_count": 34,
   "metadata": {},
   "outputs": [],
   "source": [
    "from nltk.tokenize import RegexpTokenizer"
   ]
  },
  {
   "cell_type": "code",
   "execution_count": 35,
   "metadata": {},
   "outputs": [],
   "source": [
    "tokenizer = RegexpTokenizer('\\w+')"
   ]
  },
  {
   "cell_type": "code",
   "execution_count": 36,
   "metadata": {},
   "outputs": [],
   "source": [
    "tokens=tokenizer.tokenize(doc_text)"
   ]
  },
  {
   "cell_type": "code",
   "execution_count": 37,
   "metadata": {},
   "outputs": [
    {
     "data": {
      "text/plain": [
       "['The',\n",
       " 'Project',\n",
       " 'Gutenberg',\n",
       " 'EBook',\n",
       " 'of',\n",
       " 'The',\n",
       " 'Chronology',\n",
       " 'of',\n",
       " 'Ancient',\n",
       " 'Kingdoms']"
      ]
     },
     "execution_count": 37,
     "metadata": {},
     "output_type": "execute_result"
    }
   ],
   "source": [
    "tokens[:10]"
   ]
  },
  {
   "cell_type": "code",
   "execution_count": 40,
   "metadata": {},
   "outputs": [
    {
     "data": {
      "text/plain": [
       "['the',\n",
       " 'project',\n",
       " 'gutenberg',\n",
       " 'ebook',\n",
       " 'of',\n",
       " 'the',\n",
       " 'chronology',\n",
       " 'of',\n",
       " 'ancient',\n",
       " 'kingdoms']"
      ]
     },
     "execution_count": 40,
     "metadata": {},
     "output_type": "execute_result"
    }
   ],
   "source": [
    "words=[]\n",
    "for word in tokens:\n",
    "    words.append(word.lower())\n",
    "words[:10]"
   ]
  },
  {
   "cell_type": "markdown",
   "metadata": {},
   "source": [
    "# Stopwords"
   ]
  },
  {
   "cell_type": "code",
   "execution_count": 42,
   "metadata": {},
   "outputs": [],
   "source": [
    "from nltk.corpus import stopwords"
   ]
  },
  {
   "cell_type": "code",
   "execution_count": 44,
   "metadata": {},
   "outputs": [],
   "source": [
    "stop_words = set(stopwords.words('english'))"
   ]
  },
  {
   "cell_type": "code",
   "execution_count": 46,
   "metadata": {},
   "outputs": [],
   "source": [
    "filter_text = [word for word in words if not word in stop_words]"
   ]
  },
  {
   "cell_type": "code",
   "execution_count": 47,
   "metadata": {},
   "outputs": [
    {
     "data": {
      "text/plain": [
       "['project',\n",
       " 'gutenberg',\n",
       " 'ebook',\n",
       " 'chronology',\n",
       " 'ancient',\n",
       " 'kingdoms',\n",
       " 'amended',\n",
       " 'isaac',\n",
       " 'newton',\n",
       " 'ebook']"
      ]
     },
     "execution_count": 47,
     "metadata": {},
     "output_type": "execute_result"
    }
   ],
   "source": [
    "filter_text[:10]"
   ]
  },
  {
   "cell_type": "markdown",
   "metadata": {},
   "source": [
    "# Analysiz the text with NLTK"
   ]
  },
  {
   "cell_type": "code",
   "execution_count": 48,
   "metadata": {},
   "outputs": [],
   "source": [
    "import nltk"
   ]
  },
  {
   "cell_type": "code",
   "execution_count": 49,
   "metadata": {},
   "outputs": [],
   "source": [
    "text=nltk.Text(filter_text)"
   ]
  },
  {
   "cell_type": "code",
   "execution_count": 50,
   "metadata": {},
   "outputs": [
    {
     "data": {
      "text/plain": [
       "['project',\n",
       " 'gutenberg',\n",
       " 'ebook',\n",
       " 'chronology',\n",
       " 'ancient',\n",
       " 'kingdoms',\n",
       " 'amended',\n",
       " 'isaac',\n",
       " 'newton',\n",
       " 'ebook']"
      ]
     },
     "execution_count": 50,
     "metadata": {},
     "output_type": "execute_result"
    }
   ],
   "source": [
    "text[:10]"
   ]
  },
  {
   "cell_type": "code",
   "execution_count": 51,
   "metadata": {},
   "outputs": [],
   "source": [
    "fdist=nltk.FreqDist(text)"
   ]
  },
  {
   "cell_type": "code",
   "execution_count": 52,
   "metadata": {},
   "outputs": [
    {
     "data": {
      "text/plain": [
       "[('years', 568),\n",
       " ('_', 434),\n",
       " ('year', 387),\n",
       " ('_egypt_', 381),\n",
       " ('king', 379),\n",
       " ('son', 323),\n",
       " ('l', 316),\n",
       " ('reign', 292),\n",
       " ('first', 268),\n",
       " ('kings', 266)]"
      ]
     },
     "execution_count": 52,
     "metadata": {},
     "output_type": "execute_result"
    }
   ],
   "source": [
    "fdist.most_common(10)"
   ]
  },
  {
   "cell_type": "code",
   "execution_count": 53,
   "metadata": {},
   "outputs": [
    {
     "data": {
      "text/plain": [
       "87"
      ]
     },
     "execution_count": 53,
     "metadata": {},
     "output_type": "execute_result"
    }
   ],
   "source": [
    "fdist['project']"
   ]
  },
  {
   "cell_type": "code",
   "execution_count": 56,
   "metadata": {},
   "outputs": [
    {
     "data": {
      "image/png": "[encoded data removed]",
      "text/plain": [
       "<Figure size 648x504 with 1 Axes>"
      ]
     },
     "metadata": {
      "needs_background": "light"
     },
     "output_type": "display_data"
    }
   ],
   "source": [
    "plt.figure(figsize=(9,7))\n",
    "fdist.plot(30)"
   ]
  },
  {
   "cell_type": "code",
   "execution_count": 59,
   "metadata": {},
   "outputs": [
    {
     "data": {
      "image/png": "[encoded data removed]",
      "text/plain": [
       "<Figure size 432x288 with 1 Axes>"
      ]
     },
     "metadata": {
      "needs_background": "light"
     },
     "output_type": "display_data"
    }
   ],
   "source": [
    "plt.figure()\n",
    "fdist.plot(30,cumulative=True)"
   ]
  },
  {
   "cell_type": "markdown",
   "metadata": {},
   "source": [
    "# Part of Speech Tagging"
   ]
  },
  {
   "cell_type": "code",
   "execution_count": 60,
   "metadata": {},
   "outputs": [
    {
     "data": {
      "text/plain": [
       "[('project', 'NN'),\n",
       " ('gutenberg', 'NN'),\n",
       " ('ebook', 'NN'),\n",
       " ('chronology', 'NN'),\n",
       " ('ancient', 'NN'),\n",
       " ('kingdoms', 'NNS'),\n",
       " ('amended', 'VBD'),\n",
       " ('isaac', 'JJ'),\n",
       " ('newton', 'NN'),\n",
       " ('ebook', 'NN')]"
      ]
     },
     "execution_count": 60,
     "metadata": {},
     "output_type": "execute_result"
    }
   ],
   "source": [
    "tagged=nltk.pos_tag(text)\n",
    "tagged[:10]"
   ]
  },
  {
   "cell_type": "code",
   "execution_count": 61,
   "metadata": {},
   "outputs": [
    {
     "name": "stdout",
     "output_type": "stream",
     "text": [
      "reign son kings brother last one therefore year father according\n",
      "called great years began war within man grandfather nabonass conquest\n"
     ]
    }
   ],
   "source": [
    "text.similar('king')"
   ]
  },
  {
   "cell_type": "code",
   "execution_count": 62,
   "metadata": {},
   "outputs": [
    {
     "name": "stdout",
     "output_type": "stream",
     "text": [
      "Displaying 25 of 568 matches:\n",
      "est beneficial alone carried farther years learned went able many ages madam ob\n",
      "t kingdoms amended_ writ author many years since yet lately revis actually prep\n",
      "also genealogies _hellanicus_ twelve years older _herodotus_ digested history a\n",
      "ns _athens_ _hippias_ _elean_ thirty years fall _persian_ empire published brev\n",
      "ed breviary list olympic victors ten years fall thereof _ephorus_ disciple _iso\n",
      " appear reigns kings yet set numbers years _arundelian_ marbles composed sixty \n",
      " _arundelian_ marbles composed sixty years death _alexander_ great _an _ 4 _oly\n",
      "nerations reigns successions numbers years putting reigns successions equipolle\n",
      "e generations hundred hundred twenty years appears chronology made antiquities \n",
      "iquities _greece_ three four hundred years older truth original technical chron\n",
      "greeks_ _eratosthenes_ wrote hundred years death _alexander_ great followed _ap\n",
      " _eratosthenes_ _apollodorus_ affirm years older first olympiad _ first _aristo\n",
      "s_ _apollodorus_ others made hundred years older another place _plutarch_ 2 tel\n",
      "s _latines_ burnt _gauls_ sixty four years death _alexander_ great _quintus fab\n",
      "st historian _latines_ lived hundred years later king sacred history _assyrian_\n",
      "an _pul_ _tiglathpilaser_ lasted 170 years accordingly _herodotus_ hath made _s\n",
      "ade _semiramis_ five generations 166 years older _nitocris_ mother last king _b\n",
      "_ctesias_ hath made _semiramis_ 1500 years older _nitocris_ feigned long series\n",
      "ntion temple could two three hundred years building reign _psammiticus_ began 6\n",
      "ilding reign _psammiticus_ began 655 years christ place founding temple _menes_\n",
      "st place founding temple _menes_ 257 years earlier priests _egypt_ magnified an\n",
      "us_ tell _menes_ _mœris_ reigned 200 years _psammiticus_ 330 kings whose reigns\n",
      "eigns took many ages eleven thousand years filled interval feigned kings done n\n",
      "ade founder _ægialeus_ three hundred years older brother _phoroneus_ made kings\n",
      "ould scarce remembred eighty hundred years deaths therefore admit chronology th\n"
     ]
    }
   ],
   "source": [
    "text.concordance('years')"
   ]
  },
  {
   "cell_type": "code",
   "execution_count": 64,
   "metadata": {},
   "outputs": [
    {
     "name": "stdout",
     "output_type": "stream",
     "text": [
      "days_king son_father year_king kingdom_upon\n"
     ]
    }
   ],
   "source": [
    "text.common_contexts(['king','brother'])"
   ]
  },
  {
   "cell_type": "code",
   "execution_count": 65,
   "metadata": {},
   "outputs": [
    {
     "data": {
      "image/png": "[encoded data removed]",
      "text/plain": [
       "<Figure size 432x288 with 1 Axes>"
      ]
     },
     "metadata": {
      "needs_background": "light"
     },
     "output_type": "display_data"
    }
   ],
   "source": [
    "text.dispersion_plot(words[500:510])"
   ]
  },
  {
   "cell_type": "markdown",
   "metadata": {},
   "source": [
    "# Lexical Richness of the Text"
   ]
  },
  {
   "cell_type": "code",
   "execution_count": 67,
   "metadata": {},
   "outputs": [
    {
     "data": {
      "text/plain": [
       "49368"
      ]
     },
     "execution_count": 67,
     "metadata": {},
     "output_type": "execute_result"
    }
   ],
   "source": [
    "len(text)"
   ]
  },
  {
   "cell_type": "code",
   "execution_count": 69,
   "metadata": {},
   "outputs": [
    {
     "data": {
      "text/plain": [
       "0.1888267703775725"
      ]
     },
     "execution_count": 69,
     "metadata": {},
     "output_type": "execute_result"
    }
   ],
   "source": [
    "len(set(text))/len(text)"
   ]
  },
  {
   "cell_type": "code",
   "execution_count": 71,
   "metadata": {},
   "outputs": [
    {
     "data": {
      "text/plain": [
       "266"
      ]
     },
     "execution_count": 71,
     "metadata": {},
     "output_type": "execute_result"
    }
   ],
   "source": [
    "text.count('kings')"
   ]
  },
  {
   "cell_type": "code",
   "execution_count": 73,
   "metadata": {},
   "outputs": [
    {
     "data": {
      "text/plain": [
       "0.5388105655485335"
      ]
     },
     "execution_count": 73,
     "metadata": {},
     "output_type": "execute_result"
    }
   ],
   "source": [
    "100*text.count(\"kings\")/len(text)"
   ]
  },
  {
   "cell_type": "markdown",
   "metadata": {},
   "source": [
    "# Long Words,Bigram,Collacation"
   ]
  },
  {
   "cell_type": "code",
   "execution_count": 74,
   "metadata": {},
   "outputs": [
    {
     "data": {
      "text/plain": [
       "['restrictions',\n",
       " 'distributed',\n",
       " 'proofreading',\n",
       " '_alexander_',\n",
       " 'encouragement',\n",
       " 'extraordinary',\n",
       " 'productions',\n",
       " '_chronology_',\n",
       " 'demonstration',\n",
       " 'judiciousness',\n",
       " 'suggestions',\n",
       " 'authorities',\n",
       " 'accompanies',\n",
       " 'presumptuous',\n",
       " '_chronology_']"
      ]
     },
     "execution_count": 74,
     "metadata": {},
     "output_type": "execute_result"
    }
   ],
   "source": [
    "long_words =[w for w in words if len(w)>10]\n",
    "long_words[:15]"
   ]
  },
  {
   "cell_type": "code",
   "execution_count": 76,
   "metadata": {},
   "outputs": [
    {
     "data": {
      "text/plain": [
       "[('project', 'gutenberg'),\n",
       " ('gutenberg', 'ebook'),\n",
       " ('ebook', 'chronology'),\n",
       " ('chronology', 'ancient'),\n",
       " ('ancient', 'kingdoms'),\n",
       " ('kingdoms', 'amended'),\n",
       " ('amended', 'isaac'),\n",
       " ('isaac', 'newton'),\n",
       " ('newton', 'ebook'),\n",
       " ('ebook', 'use'),\n",
       " ('use', 'anyone'),\n",
       " ('anyone', 'anywhere'),\n",
       " ('anywhere', 'cost'),\n",
       " ('cost', 'almost'),\n",
       " ('almost', 'restrictions'),\n",
       " ('restrictions', 'whatsoever'),\n",
       " ('whatsoever', 'may'),\n",
       " ('may', 'copy'),\n",
       " ('copy', 'give'),\n",
       " ('give', 'away'),\n",
       " ('away', 'use'),\n",
       " ('use', 'terms'),\n",
       " ('terms', 'project'),\n",
       " ('project', 'gutenberg'),\n",
       " ('gutenberg', 'license'),\n",
       " ('license', 'included'),\n",
       " ('included', 'ebook'),\n",
       " ('ebook', 'online'),\n",
       " ('online', 'www'),\n",
       " ('www', 'gutenberg'),\n",
       " ('gutenberg', 'net'),\n",
       " ('net', 'title'),\n",
       " ('title', 'chronology'),\n",
       " ('chronology', 'ancient'),\n",
       " ('ancient', 'kingdoms'),\n",
       " ('kingdoms', 'amended'),\n",
       " ('amended', 'prefix'),\n",
       " ('prefix', 'short'),\n",
       " ('short', 'chronicle'),\n",
       " ('chronicle', 'first'),\n",
       " ('first', 'memory'),\n",
       " ('memory', 'things'),\n",
       " ('things', 'europe'),\n",
       " ('europe', 'conquest'),\n",
       " ('conquest', 'persia'),\n",
       " ('persia', 'alexander'),\n",
       " ('alexander', 'great'),\n",
       " ('great', 'author'),\n",
       " ('author', 'isaac'),\n",
       " ('isaac', 'newton'),\n",
       " ('newton', 'release'),\n",
       " ('release', 'date'),\n",
       " ('date', 'may'),\n",
       " ('may', '7'),\n",
       " ('7', '2005'),\n",
       " ('2005', 'ebook'),\n",
       " ('ebook', '15784'),\n",
       " ('15784', 'language'),\n",
       " ('language', 'english'),\n",
       " ('english', 'character'),\n",
       " ('character', 'set'),\n",
       " ('set', 'encoding'),\n",
       " ('encoding', 'unicode'),\n",
       " ('unicode', 'utf'),\n",
       " ('utf', '8'),\n",
       " ('8', 'start'),\n",
       " ('start', 'project'),\n",
       " ('project', 'gutenberg'),\n",
       " ('gutenberg', 'ebook'),\n",
       " ('ebook', 'chronology'),\n",
       " ('chronology', 'ancient'),\n",
       " ('ancient', 'produced'),\n",
       " ('produced', 'robert'),\n",
       " ('robert', 'shimmin'),\n",
       " ('shimmin', 'keith'),\n",
       " ('keith', 'edkins'),\n",
       " ('edkins', 'online'),\n",
       " ('online', 'distributed'),\n",
       " ('distributed', 'proofreading'),\n",
       " ('proofreading', 'team'),\n",
       " ('team', 'chronology'),\n",
       " ('chronology', 'ancient'),\n",
       " ('ancient', 'kingdoms'),\n",
       " ('kingdoms', 'amended'),\n",
       " ('amended', 'prefix'),\n",
       " ('prefix', '_a'),\n",
       " ('_a', '_short'),\n",
       " ('_short', 'chronicle_'),\n",
       " ('chronicle_', 'first'),\n",
       " ('first', 'memory'),\n",
       " ('memory', 'things'),\n",
       " ('things', '_europe_'),\n",
       " ('_europe_', 'conquest'),\n",
       " ('conquest', '_persia_'),\n",
       " ('_persia_', '_alexander_'),\n",
       " ('_alexander_', 'great'),\n",
       " ('great', '_'),\n",
       " ('_', 'sir'),\n",
       " ('sir', '_isaac'),\n",
       " ('_isaac', 'newton_'),\n",
       " ('newton_', '_london_'),\n",
       " ('_london_', 'printed'),\n",
       " ('printed', 'j'),\n",
       " ('j', 'tonson'),\n",
       " ('tonson', '_strand_'),\n",
       " ('_strand_', 'j'),\n",
       " ('j', 'osborn'),\n",
       " ('osborn', 'longman'),\n",
       " ('longman', '_pater'),\n",
       " ('_pater', 'noster'),\n",
       " ('noster', 'row_'),\n",
       " ('row_', 'mdccxxviii'),\n",
       " ('mdccxxviii', 'queen'),\n",
       " ('queen', 'madam'),\n",
       " ('madam', '_as'),\n",
       " ('_as', 'could'),\n",
       " ('could', 'never'),\n",
       " ('never', 'hope'),\n",
       " ('hope', 'write'),\n",
       " ('write', 'thing'),\n",
       " ('thing', 'self'),\n",
       " ('self', 'worthy'),\n",
       " ('worthy', 'laid'),\n",
       " ('laid', 'majesty'),\n",
       " ('majesty', 'think'),\n",
       " ('think', 'great'),\n",
       " ('great', 'happiness'),\n",
       " ('happiness', 'lot'),\n",
       " ('lot', 'usher'),\n",
       " ('usher', 'world'),\n",
       " ('world', 'sacred'),\n",
       " ('sacred', 'name'),\n",
       " ('name', 'last'),\n",
       " ('last', 'work'),\n",
       " ('work', 'great'),\n",
       " ('great', 'genius'),\n",
       " ('genius', 'age'),\n",
       " ('age', 'ever'),\n",
       " ('ever', 'produced'),\n",
       " ('produced', 'offering'),\n",
       " ('offering', 'value'),\n",
       " ('value', 'self'),\n",
       " ('self', 'danger'),\n",
       " ('danger', 'suffering'),\n",
       " ('suffering', 'meanness'),\n",
       " ('meanness', 'hand'),\n",
       " ('hand', 'presents'),\n",
       " ('presents', '_'),\n",
       " ('_', '_the'),\n",
       " ('_the', 'impartial'),\n",
       " ('impartial', 'universal'),\n",
       " ('universal', 'encouragement'),\n",
       " ('encouragement', 'majesty'),\n",
       " ('majesty', 'always'),\n",
       " ('always', 'given'),\n",
       " ('given', 'arts'),\n",
       " ('arts', 'sciences'),\n",
       " ('sciences', 'entitles'),\n",
       " ('entitles', 'best'),\n",
       " ('best', 'returns'),\n",
       " ('returns', 'learned'),\n",
       " ('learned', 'world'),\n",
       " ('world', 'able'),\n",
       " ('able', 'make'),\n",
       " ('make', 'many'),\n",
       " ('many', 'extraordinary'),\n",
       " ('extraordinary', 'honours'),\n",
       " ('honours', 'majesty'),\n",
       " ('majesty', 'vouchsafed'),\n",
       " ('vouchsafed', 'author'),\n",
       " ('author', 'following'),\n",
       " ('following', 'sheets'),\n",
       " ('sheets', 'give'),\n",
       " ('give', 'right'),\n",
       " ('right', 'productions'),\n",
       " ('productions', 'rest'),\n",
       " ('rest', 'lay'),\n",
       " ('lay', 'particular'),\n",
       " ('particular', 'claim'),\n",
       " ('claim', 'royal'),\n",
       " ('royal', 'protection'),\n",
       " ('protection', '_chronology_'),\n",
       " ('_chronology_', 'never'),\n",
       " ('never', 'appeared'),\n",
       " ('appeared', 'present'),\n",
       " ('present', 'form'),\n",
       " ('form', 'without'),\n",
       " ('without', 'majesty'),\n",
       " ('majesty', 'influence'),\n",
       " ('influence', '_short'),\n",
       " ('_short', 'chronicle_'),\n",
       " ('chronicle_', 'precedes'),\n",
       " ('precedes', 'entirely'),\n",
       " ('entirely', 'owing'),\n",
       " ('owing', 'commands'),\n",
       " ('commands', 'pleased'),\n",
       " ('pleased', 'honour'),\n",
       " ('honour', 'singular'),\n",
       " ('singular', 'care'),\n",
       " ('care', 'education'),\n",
       " ('education', 'royal'),\n",
       " ('royal', 'issue'),\n",
       " ('issue', 'earnest'),\n",
       " ('earnest', 'desire'),\n",
       " ('desire', 'form'),\n",
       " ('form', 'minds'),\n",
       " ('minds', 'betimes'),\n",
       " ('betimes', 'lead'),\n",
       " ('lead', 'early'),\n",
       " ('early', 'knowledge'),\n",
       " ('knowledge', 'truth'),\n",
       " ('truth', '_'),\n",
       " ('_', '_the'),\n",
       " ('_the', 'author'),\n",
       " ('author', 'acquainted'),\n",
       " ('acquainted', 'publick'),\n",
       " ('publick', 'following'),\n",
       " ('following', 'treatise'),\n",
       " ('treatise', 'fruit'),\n",
       " ('fruit', 'vacant'),\n",
       " ('vacant', 'hours'),\n",
       " ('hours', 'relief'),\n",
       " ('relief', 'sometimes'),\n",
       " ('sometimes', 'recourse'),\n",
       " ('recourse', 'tired'),\n",
       " ('tired', 'studies'),\n",
       " ('studies', 'idea'),\n",
       " ('idea', 'raise'),\n",
       " ('raise', 'abilities'),\n",
       " ('abilities', 'find'),\n",
       " ('find', 'work'),\n",
       " ('work', 'labour'),\n",
       " ('labour', 'learning'),\n",
       " ('learning', 'would'),\n",
       " ('would', 'sufficient'),\n",
       " ('sufficient', 'employment'),\n",
       " ('employment', 'glory'),\n",
       " ('glory', 'whole'),\n",
       " ('whole', 'life'),\n",
       " ('life', 'another'),\n",
       " ('another', 'diversion'),\n",
       " ('diversion', 'amusement'),\n",
       " ('amusement', 'subject'),\n",
       " ('subject', 'nature'),\n",
       " ('nature', 'incapable'),\n",
       " ('incapable', 'demonstration'),\n",
       " ('demonstration', 'upon'),\n",
       " ('upon', 'writings'),\n",
       " ('writings', 'founded'),\n",
       " ('founded', 'usual'),\n",
       " ('usual', 'accuracy'),\n",
       " ('accuracy', 'judiciousness'),\n",
       " ('judiciousness', 'less'),\n",
       " ('less', 'observable'),\n",
       " ('observable', 'time'),\n",
       " ('time', 'supports'),\n",
       " ('supports', 'suggestions'),\n",
       " ('suggestions', 'authorities'),\n",
       " ('authorities', 'proofs'),\n",
       " ('proofs', 'whole'),\n",
       " ('whole', 'compass'),\n",
       " ('compass', 'science'),\n",
       " ('science', 'furnish'),\n",
       " ('furnish', 'offers'),\n",
       " ('offers', 'greatest'),\n",
       " ('greatest', 'caution'),\n",
       " ('caution', 'modesty'),\n",
       " ('modesty', 'natural'),\n",
       " ('natural', 'always'),\n",
       " ('always', 'accompanies'),\n",
       " ('accompanies', 'superior'),\n",
       " ('superior', 'talents'),\n",
       " ('talents', 'sets'),\n",
       " ('sets', 'becoming'),\n",
       " ('becoming', 'example'),\n",
       " ('example', 'others'),\n",
       " ('others', 'presumptuous'),\n",
       " ('presumptuous', 'matters'),\n",
       " ('matters', 'remote'),\n",
       " ('remote', 'dark'),\n",
       " ('dark', 'tho'),\n",
       " ('tho', 'subject'),\n",
       " ('subject', '_chronology_'),\n",
       " ('_chronology_', 'yet'),\n",
       " ('yet', 'mind'),\n",
       " ('mind', 'author'),\n",
       " ('author', 'abounded'),\n",
       " ('abounded', 'extensive'),\n",
       " ('extensive', 'variety'),\n",
       " ('variety', 'knowledge'),\n",
       " ('knowledge', 'frequently'),\n",
       " ('frequently', 'intersperses'),\n",
       " ('intersperses', 'observations'),\n",
       " ('observations', 'different'),\n",
       " ('different', 'kind'),\n",
       " ('kind', 'occasionally'),\n",
       " ('occasionally', 'instills'),\n",
       " ('instills', 'principles'),\n",
       " ('principles', 'virtue'),\n",
       " ('virtue', 'humanity'),\n",
       " ('humanity', 'seem'),\n",
       " ('seem', 'always'),\n",
       " ('always', 'uppermost'),\n",
       " ('uppermost', 'heart'),\n",
       " ('heart', 'constant'),\n",
       " ('constant', 'rule'),\n",
       " ('rule', 'actions'),\n",
       " ('actions', 'appear'),\n",
       " ('appear', 'remarkably'),\n",
       " ('remarkably', 'writings'),\n",
       " ('writings', '_'),\n",
       " ('_', '_here'),\n",
       " ('_here', 'majesty'),\n",
       " ('majesty', 'see'),\n",
       " ('see', '_astronomy_'),\n",
       " ('_astronomy_', 'observation'),\n",
       " ('observation', 'course'),\n",
       " ('course', 'nature'),\n",
       " ('nature', 'assisting'),\n",
       " ('assisting', 'parts'),\n",
       " ('parts', 'learning'),\n",
       " ('learning', 'illustrate'),\n",
       " ('illustrate', 'antiquity'),\n",
       " ('antiquity', 'penetration'),\n",
       " ('penetration', 'sagacity'),\n",
       " ('sagacity', 'peculiar'),\n",
       " ('peculiar', 'great'),\n",
       " ('great', 'author'),\n",
       " ('author', 'dispelling'),\n",
       " ('dispelling', 'mist'),\n",
       " ('mist', 'fable'),\n",
       " ('fable', 'error'),\n",
       " ('error', 'darkened'),\n",
       " ('darkened', 'pleasure'),\n",
       " ('pleasure', 'contemplate'),\n",
       " ('contemplate', 'first'),\n",
       " ('first', 'dawnings'),\n",
       " ('dawnings', 'favourite'),\n",
       " ('favourite', 'arts'),\n",
       " ('arts', 'sciences'),\n",
       " ('sciences', 'noblest'),\n",
       " ('noblest', 'beneficial'),\n",
       " ('beneficial', 'alone'),\n",
       " ('alone', 'carried'),\n",
       " ('carried', 'farther'),\n",
       " ('farther', 'years'),\n",
       " ('years', 'learned'),\n",
       " ('learned', 'went'),\n",
       " ('went', 'able'),\n",
       " ('able', 'many'),\n",
       " ('many', 'ages'),\n",
       " ('ages', 'madam'),\n",
       " ('madam', 'observe'),\n",
       " ('observe', 'abhorrence'),\n",
       " ('abhorrence', 'idolatry'),\n",
       " ('idolatry', 'persecution'),\n",
       " ('persecution', 'essence'),\n",
       " ('essence', 'foundation'),\n",
       " ('foundation', 'religion'),\n",
       " ('religion', 'makes'),\n",
       " ('makes', 'bright'),\n",
       " ('bright', 'part'),\n",
       " ('part', 'majesty'),\n",
       " ('majesty', 'character'),\n",
       " ('character', 'one'),\n",
       " ('one', '_earliest'),\n",
       " ('_earliest', 'laws_'),\n",
       " ('laws_', 'divine'),\n",
       " ('divine', 'legislator'),\n",
       " ('legislator', '_morality'),\n",
       " ('_morality', 'first'),\n",
       " ('first', 'ages'),\n",
       " ('ages', 'primitive'),\n",
       " ('primitive', 'religion'),\n",
       " ('religion', 'jews'),\n",
       " ('jews', 'christians_'),\n",
       " ('christians_', 'author'),\n",
       " ('author', 'adds'),\n",
       " ('adds', '_ought'),\n",
       " ('_ought', 'standing'),\n",
       " ('standing', 'religion'),\n",
       " ('religion', 'nations'),\n",
       " ('nations', 'honour'),\n",
       " ('honour', 'god'),\n",
       " ('god', 'good'),\n",
       " ('good', 'mankind_'),\n",
       " ('mankind_', 'majesty'),\n",
       " ('majesty', 'displeased'),\n",
       " ('displeased', 'find'),\n",
       " ('find', 'sentiments'),\n",
       " ('sentiments', 'agreeable'),\n",
       " ('agreeable', 'whilst'),\n",
       " ('whilst', 'condemns'),\n",
       " ('condemns', '_all'),\n",
       " ('_all', 'oppression_'),\n",
       " ('oppression_', 'every'),\n",
       " ('every', 'kind'),\n",
       " ('kind', '_cruelty'),\n",
       " ('_cruelty', 'even'),\n",
       " ('even', 'brute'),\n",
       " ('brute', 'beasts_'),\n",
       " ('beasts_', 'much'),\n",
       " ('much', 'warmth'),\n",
       " ('warmth', 'inculcates'),\n",
       " ('inculcates', '_mercy_'),\n",
       " ('_mercy_', '_charity_'),\n",
       " ('_charity_', 'indispensable'),\n",
       " ('indispensable', 'duty'),\n",
       " ('duty', '_doing'),\n",
       " ('_doing', 'good_'),\n",
       " ('good_', 'promoting'),\n",
       " ('promoting', 'general'),\n",
       " ('general', '_welfare'),\n",
       " ('_welfare', 'mankind_'),\n",
       " ('mankind_', 'great'),\n",
       " ('great', 'ends'),\n",
       " ('ends', 'government'),\n",
       " ('government', 'first'),\n",
       " ('first', 'instituted'),\n",
       " ('instituted', 'alone'),\n",
       " ('alone', 'administred'),\n",
       " ('administred', 'happy'),\n",
       " ('happy', 'nation'),\n",
       " ('nation', 'king'),\n",
       " ('king', 'distinguished'),\n",
       " ('distinguished', 'early'),\n",
       " ('early', 'opposition'),\n",
       " ('opposition', 'tyranny'),\n",
       " ('tyranny', 'threatned'),\n",
       " ('threatned', '_europe_'),\n",
       " ('_europe_', 'chuses'),\n",
       " ('chuses', 'reign'),\n",
       " ('reign', 'hearts'),\n",
       " ('hearts', 'subjects'),\n",
       " ('subjects', 'innate'),\n",
       " ('innate', 'benevolence'),\n",
       " ('benevolence', 'paternal'),\n",
       " ('paternal', 'affection'),\n",
       " ('affection', 'people'),\n",
       " ('people', 'establishes'),\n",
       " ('establishes', 'confirms'),\n",
       " ('confirms', 'liberties'),\n",
       " ('liberties', 'valour'),\n",
       " ('valour', 'magnanimity'),\n",
       " ('magnanimity', 'guards'),\n",
       " ('guards', 'defends'),\n",
       " ('defends', '_'),\n",
       " ('_', '_that'),\n",
       " ('_that', 'sincerity'),\n",
       " ('sincerity', 'openness'),\n",
       " ('openness', 'mind'),\n",
       " ('mind', 'darling'),\n",
       " ('darling', 'quality'),\n",
       " ('quality', 'nation'),\n",
       " ('nation', 'become'),\n",
       " ('become', 'conspicuous'),\n",
       " ('conspicuous', 'placed'),\n",
       " ('placed', 'upon'),\n",
       " ('upon', 'throne'),\n",
       " ('throne', 'see'),\n",
       " ('see', 'pride'),\n",
       " ('pride', 'sovereign'),\n",
       " ('sovereign', 'eminent'),\n",
       " ('eminent', 'virtue'),\n",
       " ('virtue', 'country'),\n",
       " ('country', 'desirous'),\n",
       " ('desirous', 'distinguished'),\n",
       " ('distinguished', 'prince'),\n",
       " ('prince', 'whose'),\n",
       " ('whose', 'views'),\n",
       " ('views', 'heart'),\n",
       " ('heart', 'mean'),\n",
       " ('mean', 'arts'),\n",
       " ('arts', 'disguise'),\n",
       " ('disguise', 'far'),\n",
       " ('far', 'reach'),\n",
       " ('reach', 'temptation'),\n",
       " ('temptation', 'introduce'),\n",
       " ('introduce', 'blindness'),\n",
       " ('blindness', 'ignorance'),\n",
       " ('ignorance', 'majesty'),\n",
       " ('majesty', 'incessant'),\n",
       " ('incessant', 'personal'),\n",
       " ('personal', 'cares'),\n",
       " ('cares', 'dispensing'),\n",
       " ('dispensing', 'happiness'),\n",
       " ('happiness', 'home'),\n",
       " ('home', 'peace'),\n",
       " ('peace', 'abroad'),\n",
       " ('abroad', 'madam'),\n",
       " ('madam', 'lead'),\n",
       " ('lead', 'us'),\n",
       " ('us', 'great'),\n",
       " ('great', 'example'),\n",
       " ('example', 'noble'),\n",
       " ('noble', 'use'),\n",
       " ('use', 'quiet'),\n",
       " ('quiet', 'ease'),\n",
       " ('ease', 'enjoy'),\n",
       " ('enjoy', 'administration'),\n",
       " ('administration', 'whilst'),\n",
       " ('whilst', 'hours'),\n",
       " ('hours', 'leisure'),\n",
       " ('leisure', 'employed'),\n",
       " ('employed', 'cultivating'),\n",
       " ('cultivating', 'self'),\n",
       " ('self', 'learning'),\n",
       " ('learning', 'warmly'),\n",
       " ('warmly', 'patronize'),\n",
       " ('patronize', 'others'),\n",
       " ('others', '_'),\n",
       " ('_', '_your'),\n",
       " ('_your', 'majesty'),\n",
       " ('majesty', 'think'),\n",
       " ('think', 'instructive'),\n",
       " ('instructive', 'pursuit'),\n",
       " ('pursuit', 'entertainment'),\n",
       " ('entertainment', 'exalted'),\n",
       " ('exalted', 'station'),\n",
       " ('station', 'self'),\n",
       " ('self', 'proof'),\n",
       " ('proof', 'abstruser'),\n",
       " ('abstruser', 'parts'),\n",
       " ('parts', 'beyond'),\n",
       " ('beyond', 'reach'),\n",
       " ('reach', 'sex'),\n",
       " ('sex', 'study'),\n",
       " ('study', 'end'),\n",
       " ('end', 'barren'),\n",
       " ('barren', 'speculation'),\n",
       " ('speculation', 'discovers'),\n",
       " ('discovers', 'steady'),\n",
       " ('steady', 'attachment'),\n",
       " ('attachment', 'true'),\n",
       " ('true', 'religion'),\n",
       " ('religion', 'liberality'),\n",
       " ('liberality', 'beneficence'),\n",
       " ('beneficence', 'amiable'),\n",
       " ('amiable', 'virtues'),\n",
       " ('virtues', 'increase'),\n",
       " ('increase', 'heighten'),\n",
       " ('heighten', 'felicities'),\n",
       " ('felicities', 'throne'),\n",
       " ('throne', 'time'),\n",
       " ('time', 'bless'),\n",
       " ('bless', 'around'),\n",
       " ('around', 'thus'),\n",
       " ('thus', 'madam'),\n",
       " ('madam', 'enjoy'),\n",
       " ('enjoy', 'together'),\n",
       " ('together', 'highest'),\n",
       " ('highest', 'state'),\n",
       " ('state', 'publick'),\n",
       " ('publick', 'splendor'),\n",
       " ('splendor', 'dignity'),\n",
       " ('dignity', 'retired'),\n",
       " ('retired', 'pleasures'),\n",
       " ('pleasures', 'domestick'),\n",
       " ('domestick', 'blessings'),\n",
       " ('blessings', 'private'),\n",
       " ('private', 'life'),\n",
       " ('life', 'perfection'),\n",
       " ('perfection', 'human'),\n",
       " ('human', 'wisdom'),\n",
       " ('wisdom', 'well'),\n",
       " ('well', 'happiness'),\n",
       " ('happiness', '_'),\n",
       " ('_', '_the'),\n",
       " ('_the', 'good'),\n",
       " ('good', 'effects'),\n",
       " ('effects', 'love'),\n",
       " ('love', 'knowledge'),\n",
       " ('knowledge', 'stop'),\n",
       " ('stop', 'present'),\n",
       " ('present', 'age'),\n",
       " ('age', 'diffuse'),\n",
       " ('diffuse', 'influence'),\n",
       " ('influence', 'advantage'),\n",
       " ('advantage', 'late'),\n",
       " ('late', 'posterity'),\n",
       " ('posterity', 'may'),\n",
       " ('may', 'anticipate'),\n",
       " ('anticipate', 'minds'),\n",
       " ('minds', 'generations'),\n",
       " ('generations', 'come'),\n",
       " ('come', 'royal'),\n",
       " ('royal', 'progeny'),\n",
       " ('progeny', 'descended'),\n",
       " ('descended', 'educated'),\n",
       " ('educated', 'formed'),\n",
       " ('formed', 'patterns'),\n",
       " ('patterns', '_'),\n",
       " ('_', '_the'),\n",
       " ('_the', 'glorious'),\n",
       " ('glorious', 'prospect'),\n",
       " ('prospect', 'gives'),\n",
       " ('gives', 'us'),\n",
       " ('us', 'abundant'),\n",
       " ('abundant', 'reason'),\n",
       " ('reason', 'hope'),\n",
       " ('hope', 'liberty'),\n",
       " ('liberty', 'learning'),\n",
       " ('learning', 'perpetuated'),\n",
       " ('perpetuated', 'together'),\n",
       " ('together', 'bright'),\n",
       " ('bright', 'examples'),\n",
       " ('examples', 'virtue'),\n",
       " ('virtue', 'wisdom'),\n",
       " ('wisdom', 'set'),\n",
       " ('set', 'reign'),\n",
       " ('reign', 'royal'),\n",
       " ('royal', 'patrons'),\n",
       " ('patrons', 'transmitted'),\n",
       " ('transmitted', 'scepter'),\n",
       " ('scepter', 'posterity'),\n",
       " ('posterity', 'till'),\n",
       " ('till', 'works'),\n",
       " ('works', 'sir'),\n",
       " ('sir', 'isaac'),\n",
       " ('isaac', 'newton'),\n",
       " ('newton', 'shall'),\n",
       " ('shall', 'forgot'),\n",
       " ('forgot', 'time'),\n",
       " ('time', 'self'),\n",
       " ('self', 'sincere'),\n",
       " ('sincere', 'ardent'),\n",
       " ('ardent', 'wish'),\n",
       " ('wish', 'of_'),\n",
       " ('of_', '_madam'),\n",
       " ('_madam', '_'),\n",
       " ('_', 'may'),\n",
       " ('may', 'please'),\n",
       " ('please', 'majesty'),\n",
       " ('majesty', 'majesty'),\n",
       " ('majesty', 'obedient'),\n",
       " ('obedient', 'dutiful'),\n",
       " ('dutiful', 'subject'),\n",
       " ('subject', 'servant'),\n",
       " ('servant', '_john'),\n",
       " ('_john', 'conduitt_'),\n",
       " ('conduitt_', 'contents'),\n",
       " ('contents', '_a'),\n",
       " ('_a', 'short'),\n",
       " ('short', 'chronicle'),\n",
       " ('chronicle', 'first'),\n",
       " ('first', 'memory'),\n",
       " ('memory', 'things'),\n",
       " ('things', 'page'),\n",
       " ('page', '1'),\n",
       " ('1', '_europe_'),\n",
       " ('_europe_', 'conquest'),\n",
       " ('conquest', '_persia_'),\n",
       " ('_persia_', '_alexander_'),\n",
       " ('_alexander_', 'great'),\n",
       " ('great', '_'),\n",
       " ('_', 'chronology'),\n",
       " ('chronology', 'ancient'),\n",
       " ('ancient', 'kingdoms'),\n",
       " ('kingdoms', 'amended'),\n",
       " ('amended', 'chap'),\n",
       " ('chap', '_of'),\n",
       " ('_of', 'chronology'),\n",
       " ('chronology', 'first'),\n",
       " ('first', 'ages'),\n",
       " ('ages', 'the_'),\n",
       " ('the_', 'p'),\n",
       " ('p', '43'),\n",
       " ('43', 'greeks_'),\n",
       " ('greeks_', '_'),\n",
       " ('_', 'chap'),\n",
       " ('chap', 'ii'),\n",
       " ('ii', '_of'),\n",
       " ('_of', 'empire'),\n",
       " ('empire', 'of_'),\n",
       " ('of_', 'egypt_'),\n",
       " ('egypt_', '_'),\n",
       " ('_', 'p'),\n",
       " ('p', '191'),\n",
       " ('191', 'chap'),\n",
       " ('chap', 'iii'),\n",
       " ('iii', '_of'),\n",
       " ('_of', 'the_'),\n",
       " ('the_', 'assyrian'),\n",
       " ('assyrian', '_empire'),\n",
       " ('_empire', '_'),\n",
       " ('_', 'p'),\n",
       " ('p', '265'),\n",
       " ('265', 'chap'),\n",
       " ('chap', 'iv'),\n",
       " ('iv', '_of'),\n",
       " ('_of', 'two'),\n",
       " ('two', 'contemporary'),\n",
       " ('contemporary', 'empires'),\n",
       " ('empires', 'p'),\n",
       " ('p', '294'),\n",
       " ('294', '_babylonians_'),\n",
       " ('_babylonians_', '_medes_'),\n",
       " ('_medes_', '_'),\n",
       " ('_', 'chap'),\n",
       " ('chap', 'v'),\n",
       " ('v', '_a'),\n",
       " ('_a', 'description'),\n",
       " ('description', 'temple'),\n",
       " ('temple', '_solomon_'),\n",
       " ('_solomon_', '_'),\n",
       " ('_', 'p'),\n",
       " ('p', '332'),\n",
       " ('332', 'chap'),\n",
       " ('chap', 'vi'),\n",
       " ('vi', '_of'),\n",
       " ('_of', 'empire'),\n",
       " ('empire', '_persians_'),\n",
       " ('_persians_', '_'),\n",
       " ('_', 'p'),\n",
       " ('p', '347'),\n",
       " ('347', 'advertisement'),\n",
       " ('advertisement', '_tho'),\n",
       " ('_tho', '_the'),\n",
       " ('_the', 'chronology'),\n",
       " ('chronology', 'ancient'),\n",
       " ('ancient', 'kingdoms'),\n",
       " ('kingdoms', 'amended_'),\n",
       " ('amended_', 'writ'),\n",
       " ('writ', 'author'),\n",
       " ('author', 'many'),\n",
       " ('many', 'years'),\n",
       " ('years', 'since'),\n",
       " ('since', 'yet'),\n",
       " ('yet', 'lately'),\n",
       " ('lately', 'revis'),\n",
       " ('revis', 'actually'),\n",
       " ('actually', 'preparing'),\n",
       " ('preparing', 'press'),\n",
       " ('press', 'time'),\n",
       " ('time', 'death'),\n",
       " ('death', '_the'),\n",
       " ('_the', 'short'),\n",
       " ('short', 'chronicle_'),\n",
       " ('chronicle_', 'never'),\n",
       " ('never', 'intended'),\n",
       " ('intended', 'made'),\n",
       " ('made', 'public'),\n",
       " ('public', 'therefore'),\n",
       " ('therefore', 'lately'),\n",
       " ('lately', 'corrected'),\n",
       " ('corrected', 'reader'),\n",
       " ('reader', 'must'),\n",
       " ('must', 'impute'),\n",
       " ('impute', 'shall'),\n",
       " ('shall', 'find'),\n",
       " ('find', 'places'),\n",
       " ('places', '_the'),\n",
       " ('_the', 'short'),\n",
       " ('short', 'chronicle_'),\n",
       " ('chronicle_', 'accurately'),\n",
       " ('accurately', 'agree'),\n",
       " ('agree', 'dates'),\n",
       " ('dates', 'assigned'),\n",
       " ('assigned', 'larger'),\n",
       " ('larger', 'piece'),\n",
       " ('piece', 'sixth'),\n",
       " ('sixth', 'chapter'),\n",
       " ('chapter', 'copied'),\n",
       " ('copied', 'five'),\n",
       " ('five', 'makes'),\n",
       " ('makes', 'doubtful'),\n",
       " ('doubtful', 'whether'),\n",
       " ('whether', 'intended'),\n",
       " ('intended', 'print'),\n",
       " ('print', 'found'),\n",
       " ('found', 'among'),\n",
       " ('among', 'papers'),\n",
       " ('papers', 'evidently'),\n",
       " ('evidently', 'appearing'),\n",
       " ('appearing', 'continuation'),\n",
       " ('continuation', 'work'),\n",
       " ('work', 'abridg'),\n",
       " ('abridg', '_the'),\n",
       " ('_the', 'short'),\n",
       " ('short', 'chronicle_'),\n",
       " ('chronicle_', 'thought'),\n",
       " ('thought', 'proper'),\n",
       " ('proper', 'added'),\n",
       " ('added', '_'),\n",
       " ('_', '_had'),\n",
       " ('_had', '_great'),\n",
       " ('_great', 'author_'),\n",
       " ('author_', 'liv'),\n",
       " ('liv', 'publish'),\n",
       " ('publish', 'work'),\n",
       " ('work', 'would'),\n",
       " ('would', 'occasion'),\n",
       " ('occasion', 'advertisement'),\n",
       " ('advertisement', 'reader'),\n",
       " ('reader', 'desired'),\n",
       " ('desired', 'allow'),\n",
       " ('allow', 'imperfections'),\n",
       " ('imperfections', 'inseparable'),\n",
       " ('inseparable', 'posthumous'),\n",
       " ('posthumous', 'pieces'),\n",
       " ('pieces', 'great'),\n",
       " ('great', 'number'),\n",
       " ('number', 'proper'),\n",
       " ('proper', 'names'),\n",
       " ('names', 'excuse'),\n",
       " ('excuse', 'errors'),\n",
       " ('errors', 'press'),\n",
       " ('press', 'escaped'),\n",
       " ('escaped', '_'),\n",
       " ('_', 'short'),\n",
       " ('short', 'chronicle'),\n",
       " ('chronicle', 'first'),\n",
       " ('first', 'memory'),\n",
       " ('memory', 'things'),\n",
       " ('things', '_europe_'),\n",
       " ('_europe_', 'conquest'),\n",
       " ('conquest', '_persia_'),\n",
       " ('_persia_', '_alexander_'),\n",
       " ('_alexander_', 'great'),\n",
       " ('great', 'introduction'),\n",
       " ('introduction', '_greek_'),\n",
       " ('_greek_', 'antiquities'),\n",
       " ('antiquities', 'full'),\n",
       " ('full', 'poetical'),\n",
       " ('poetical', 'fictions'),\n",
       " ('fictions', '_greeks_'),\n",
       " ('_greeks_', 'wrote'),\n",
       " ('wrote', 'nothing'),\n",
       " ('nothing', 'prose'),\n",
       " ('prose', 'conquest'),\n",
       " ('conquest', '_asia_'),\n",
       " ('_asia_', '_cyrus_'),\n",
       " ('_cyrus_', '_persian_'),\n",
       " ('_persian_', '_pherecydes'),\n",
       " ('_pherecydes', 'scyrius_'),\n",
       " ('scyrius_', '_cadmus'),\n",
       " ('_cadmus', 'milesius_'),\n",
       " ('milesius_', 'introduced'),\n",
       " ('introduced', 'writing'),\n",
       " ('writing', 'prose'),\n",
       " ('prose', '_pherecydes'),\n",
       " ('_pherecydes', 'atheniensis_'),\n",
       " ('atheniensis_', 'end'),\n",
       " ('end', 'reign'),\n",
       " ('reign', '_darius'),\n",
       " ('_darius', 'hystaspis_'),\n",
       " ('hystaspis_', 'wrote'),\n",
       " ('wrote', 'antiquities'),\n",
       " ('antiquities', 'digested'),\n",
       " ('digested', 'work'),\n",
       " ('work', 'genealogies'),\n",
       " ('genealogies', 'reckoned'),\n",
       " ('reckoned', 'one'),\n",
       " ('one', 'best'),\n",
       " ('best', 'genealogers'),\n",
       " ('genealogers', '_epimenides_'),\n",
       " ('_epimenides_', 'historian'),\n",
       " ('historian', 'proceeded'),\n",
       " ('proceeded', 'also'),\n",
       " ('also', 'genealogies'),\n",
       " ('genealogies', '_hellanicus_'),\n",
       " ('_hellanicus_', 'twelve'),\n",
       " ('twelve', 'years'),\n",
       " ('years', 'older'),\n",
       " ('older', '_herodotus_'),\n",
       " ('_herodotus_', 'digested'),\n",
       " ('digested', 'history'),\n",
       " ('history', 'ages'),\n",
       " ('ages', 'successions'),\n",
       " ('successions', 'priestesses'),\n",
       " ('priestesses', '_juno'),\n",
       " ('_juno', 'argiva_'),\n",
       " ('argiva_', 'others'),\n",
       " ('others', 'digested'),\n",
       " ('digested', 'kings'),\n",
       " ('kings', '_lacedæmonians_'),\n",
       " ('_lacedæmonians_', 'archons'),\n",
       " ('archons', '_athens_'),\n",
       " ('_athens_', '_hippias_'),\n",
       " ('_hippias_', '_elean_'),\n",
       " ('_elean_', 'thirty'),\n",
       " ('thirty', 'years'),\n",
       " ('years', 'fall'),\n",
       " ('fall', '_persian_'),\n",
       " ('_persian_', 'empire'),\n",
       " ('empire', 'published'),\n",
       " ('published', 'breviary'),\n",
       " ('breviary', 'list'),\n",
       " ('list', 'olympic'),\n",
       " ('olympic', 'victors'),\n",
       " ('victors', 'ten'),\n",
       " ('ten', 'years'),\n",
       " ('years', 'fall'),\n",
       " ('fall', 'thereof'),\n",
       " ('thereof', '_ephorus_'),\n",
       " ('_ephorus_', 'disciple'),\n",
       " ('disciple', '_isocrates_'),\n",
       " ('_isocrates_', 'formed'),\n",
       " ('formed', 'chronological'),\n",
       " ('chronological', 'history'),\n",
       " ('history', '_greece_'),\n",
       " ('_greece_', 'beginning'),\n",
       " ('beginning', 'return'),\n",
       " ('return', '_heraclides_'),\n",
       " ('_heraclides_', '_peloponnesus_'),\n",
       " ('_peloponnesus_', 'ending'),\n",
       " ('ending', 'siege'),\n",
       " ('siege', '_perinthus_'),\n",
       " ('_perinthus_', 'twentieth'),\n",
       " ('twentieth', 'year'),\n",
       " ('year', '_philip_'),\n",
       " ('_philip_', 'father'),\n",
       " ('father', '_alexander_'),\n",
       " ('_alexander_', 'great'),\n",
       " ('great', 'digested'),\n",
       " ('digested', 'things'),\n",
       " ('things', 'generations'),\n",
       " ('generations', 'reckoning'),\n",
       " ('reckoning', 'olympiads'),\n",
       " ('olympiads', 'yet'),\n",
       " ('yet', 'use'),\n",
       " ('use', 'doth'),\n",
       " ('doth', 'appear'),\n",
       " ('appear', 'reigns'),\n",
       " ('reigns', 'kings'),\n",
       " ('kings', 'yet'),\n",
       " ('yet', 'set'),\n",
       " ('set', 'numbers'),\n",
       " ('numbers', 'years'),\n",
       " ('years', '_arundelian_'),\n",
       " ('_arundelian_', 'marbles'),\n",
       " ('marbles', 'composed'),\n",
       " ('composed', 'sixty'),\n",
       " ('sixty', 'years'),\n",
       " ('years', 'death'),\n",
       " ('death', '_alexander_'),\n",
       " ('_alexander_', 'great'),\n",
       " ('great', '_an'),\n",
       " ('_an', '_'),\n",
       " ('_', '4'),\n",
       " ('4', '_olymp'),\n",
       " ('_olymp', '_'),\n",
       " ('_', '128'),\n",
       " ('128', 'yet'),\n",
       " ('yet', 'mention'),\n",
       " ('mention', 'olympiads'),\n",
       " ('olympiads', 'next'),\n",
       " ('next', 'olympiad'),\n",
       " ('olympiad', '_timæus'),\n",
       " ('_timæus', 'siculus_'),\n",
       " ('siculus_', 'published'),\n",
       " ('published', 'history'),\n",
       " ('history', 'several'),\n",
       " ('several', 'books'),\n",
       " ('books', 'times'),\n",
       " ('times', 'according'),\n",
       " ('according', 'olympiads'),\n",
       " ('olympiads', 'comparing'),\n",
       " ('comparing', 'ephori'),\n",
       " ('ephori', 'kings'),\n",
       " ('kings', '_sparta_'),\n",
       " ('_sparta_', 'archons'),\n",
       " ('archons', '_athens_'),\n",
       " ('_athens_', 'priestesses'),\n",
       " ('priestesses', '_argos_'),\n",
       " ('_argos_', 'olympic'),\n",
       " ('olympic', 'victors'),\n",
       " ('victors', 'make'),\n",
       " ('make', 'olympiads'),\n",
       " ('olympiads', 'genealogies'),\n",
       " ('genealogies', 'successions'),\n",
       " ('successions', 'kings'),\n",
       " ('kings', 'archons'),\n",
       " ('archons', 'priestesses'),\n",
       " ('priestesses', 'poetical'),\n",
       " ('poetical', 'histories'),\n",
       " ('histories', 'suit'),\n",
       " ('suit', 'one'),\n",
       " ('one', 'another'),\n",
       " ('another', 'according'),\n",
       " ('according', 'best'),\n",
       " ('best', 'judgment'),\n",
       " ('judgment', 'left'),\n",
       " ('left', '_polybius_'),\n",
       " ('_polybius_', 'began'),\n",
       " ('began', 'carried'),\n",
       " ('carried', 'history'),\n",
       " ('history', 'little'),\n",
       " ('little', 'death'),\n",
       " ('death', '_alexander_'),\n",
       " ('_alexander_', 'great'),\n",
       " ('great', 'began'),\n",
       " ('began', 'set'),\n",
       " ('set', 'generations'),\n",
       " ('generations', 'reigns'),\n",
       " ('reigns', 'successions'),\n",
       " ('successions', 'numbers'),\n",
       " ('numbers', 'years'),\n",
       " ('years', 'putting'),\n",
       " ('putting', 'reigns'),\n",
       " ...]"
      ]
     },
     "execution_count": 76,
     "metadata": {},
     "output_type": "execute_result"
    }
   ],
   "source": [
    "list(nltk.bigrams(text))"
   ]
  },
  {
   "cell_type": "code",
   "execution_count": 79,
   "metadata": {},
   "outputs": [
    {
     "name": "stdout",
     "output_type": "stream",
     "text": [
      "project gutenberg; _argonautic_ expedition; _red sea_; _anno nabonass;\n",
      "_trojan_ war; year _nabonassar_; return _heraclides_; death _solomon_;\n",
      "years piece; hundred years; one another; _darius hystaspis_; years\n",
      "death; _heraclides_ _peloponnesus_; _alexander_ great; _assyrian_\n",
      "empire; literary archive; high priest; _darius nothus_; _asia minor_\n"
     ]
    }
   ],
   "source": [
    "text.collocations()  #this are the things that happen together"
   ]
  },
  {
   "cell_type": "markdown",
   "metadata": {},
   "source": [
    "# WordCLouds"
   ]
  },
  {
   "cell_type": "code",
   "execution_count": 80,
   "metadata": {},
   "outputs": [],
   "source": [
    "from wordcloud import WordCloud,STOPWORDS"
   ]
  },
  {
   "cell_type": "code",
   "execution_count": 81,
   "metadata": {},
   "outputs": [],
   "source": [
    "wordcloud= WordCloud(background_color='black').generate(str(text))"
   ]
  },
  {
   "cell_type": "code",
   "execution_count": 82,
   "metadata": {},
   "outputs": [
    {
     "data": {
      "text/plain": [
       "(-0.5, 399.5, 199.5, -0.5)"
      ]
     },
     "execution_count": 82,
     "metadata": {},
     "output_type": "execute_result"
    },
    {
     "data": {
      "image/png": "[encoded data removed]",
      "text/plain": [
       "<Figure size 1080x1656 with 1 Axes>"
      ]
     },
     "metadata": {
      "needs_background": "light"
     },
     "output_type": "display_data"
    }
   ],
   "source": [
    "plt.figure(figsize=(15,23))\n",
    "plt.imshow(wordcloud)\n",
    "plt.axis('off')"
   ]
  },
  {
   "cell_type": "markdown",
   "metadata": {},
   "source": [
    "# Sentiment Analysis"
   ]
  },
  {
   "cell_type": "code",
   "execution_count": 83,
   "metadata": {},
   "outputs": [],
   "source": [
    "import string\n",
    "from sklearn import preprocessing\n",
    "from sklearn.feature_extraction.text import CountVectorizer, TfidfVectorizer\n",
    "from sklearn.model_selection import train_test_split\n",
    "from nltk.corpus import stopwords\n",
    "from nltk.stem.snowball import SnowballStemmer\n",
    "from matplotlib import pyplot as plt\n",
    "from vaderSentiment.vaderSentiment import SentimentIntensityAnalyzer"
   ]
  },
  {
   "cell_type": "code",
   "execution_count": 84,
   "metadata": {},
   "outputs": [],
   "source": [
    "senti = SentimentIntensityAnalyzer()"
   ]
  },
  {
   "cell_type": "code",
   "execution_count": 85,
   "metadata": {},
   "outputs": [],
   "source": [
    "# Creating a function\n",
    "\n",
    "text_polar = lambda x: senti.polarity_scores(x)['compound']"
   ]
  },
  {
   "cell_type": "code",
   "execution_count": null,
   "metadata": {},
   "outputs": [],
   "source": []
  }
 ],
 "metadata": {
  "kernelspec": {
   "display_name": "Python 3",
   "language": "python",
   "name": "python3"
  },
  "language_info": {
   "codemirror_mode": {
    "name": "ipython",
    "version": 3
   },
   "file_extension": ".py",
   "mimetype": "text/x-python",
   "name": "python",
   "nbconvert_exporter": "python",
   "pygments_lexer": "ipython3",
   "version": "3.7.1"
  }
 },
 "nbformat": 4,
 "nbformat_minor": 2
}
