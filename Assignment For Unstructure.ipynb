{
 "cells": [
  {
   "cell_type": "code",
   "execution_count": 9,
   "metadata": {},
   "outputs": [],
   "source": [
    "import pandas as pd"
   ]
  },
  {
   "cell_type": "code",
   "execution_count": 1,
   "metadata": {},
   "outputs": [
    {
     "name": "stdout",
     "output_type": "stream",
     "text": [
      "Requirement already satisfied: tweepy in c:\\users\\lenovo\\anaconda3\\lib\\site-packages (3.7.0)\n",
      "Requirement already satisfied: requests>=2.11.1 in c:\\users\\lenovo\\anaconda3\\lib\\site-packages (from tweepy) (2.21.0)\n",
      "Requirement already satisfied: PySocks>=1.5.7 in c:\\users\\lenovo\\anaconda3\\lib\\site-packages (from tweepy) (1.6.8)\n",
      "Requirement already satisfied: requests-oauthlib>=0.7.0 in c:\\users\\lenovo\\anaconda3\\lib\\site-packages (from tweepy) (1.2.0)\n",
      "Requirement already satisfied: six>=1.10.0 in c:\\users\\lenovo\\anaconda3\\lib\\site-packages (from tweepy) (1.12.0)\n",
      "Requirement already satisfied: urllib3<1.25,>=1.21.1 in c:\\users\\lenovo\\anaconda3\\lib\\site-packages (from requests>=2.11.1->tweepy) (1.24.1)\n",
      "Requirement already satisfied: idna<2.9,>=2.5 in c:\\users\\lenovo\\anaconda3\\lib\\site-packages (from requests>=2.11.1->tweepy) (2.8)\n",
      "Requirement already satisfied: certifi>=2017.4.17 in c:\\users\\lenovo\\anaconda3\\lib\\site-packages (from requests>=2.11.1->tweepy) (2018.11.29)\n",
      "Requirement already satisfied: chardet<3.1.0,>=3.0.2 in c:\\users\\lenovo\\anaconda3\\lib\\site-packages (from requests>=2.11.1->tweepy) (3.0.4)\n",
      "Requirement already satisfied: oauthlib>=3.0.0 in c:\\users\\lenovo\\anaconda3\\lib\\site-packages (from requests-oauthlib>=0.7.0->tweepy) (3.0.1)\n"
     ]
    }
   ],
   "source": [
    "!pip install tweepy"
   ]
  },
  {
   "cell_type": "code",
   "execution_count": 2,
   "metadata": {},
   "outputs": [],
   "source": [
    "import tweepy"
   ]
  },
  {
   "cell_type": "code",
   "execution_count": 3,
   "metadata": {},
   "outputs": [],
   "source": [
    "consumer_key='0hlm7MB2GXZd1ugopZyDva8ab'\n",
    "consumer_secret='x4eAiDqcHybrw2gN0IZOa3Fxa5bykWIDfBnCn5SK0JKk089YZy'\n",
    "\n",
    "\n",
    "access_token = '984992114-zKTav4JtEnQW9cxxbIUgycTbRvaaL3P8klwO8tEe'\n",
    "access_secret='6UOfOXsxXytpvnJZMIdDDPIPQQWnaCyxTjDSYvGw7HaAS'"
   ]
  },
  {
   "cell_type": "code",
   "execution_count": 4,
   "metadata": {},
   "outputs": [],
   "source": [
    "auth=tweepy.OAuthHandler(consumer_key, consumer_secret)\n",
    "auth.set_access_token(access_token , access_secret)\n",
    "\n",
    "api=tweepy.API(auth)\n",
    "#wait_on_rate_limit_"
   ]
  },
  {
   "cell_type": "code",
   "execution_count": 6,
   "metadata": {},
   "outputs": [],
   "source": [
    "#Scrapping #BatlaHouseBlockBuster"
   ]
  },
  {
   "cell_type": "code",
   "execution_count": 7,
   "metadata": {},
   "outputs": [
    {
     "data": {
      "text/plain": [
       "100"
      ]
     },
     "execution_count": 7,
     "metadata": {},
     "output_type": "execute_result"
    }
   ],
   "source": [
    "tweets=api.search('#BatlaHouseBlockbuster', count=200)\n",
    "len(tweets)"
   ]
  },
  {
   "cell_type": "code",
   "execution_count": 19,
   "metadata": {},
   "outputs": [
    {
     "data": {
      "text/html": [
       "<div>\n",
       "<style scoped>\n",
       "    .dataframe tbody tr th:only-of-type {\n",
       "        vertical-align: middle;\n",
       "    }\n",
       "\n",
       "    .dataframe tbody tr th {\n",
       "        vertical-align: top;\n",
       "    }\n",
       "\n",
       "    .dataframe thead th {\n",
       "        text-align: right;\n",
       "    }\n",
       "</style>\n",
       "<table border=\"1\" class=\"dataframe\">\n",
       "  <thead>\n",
       "    <tr style=\"text-align: right;\">\n",
       "      <th></th>\n",
       "      <th>created_at</th>\n",
       "      <th>dispay_name</th>\n",
       "      <th>followers</th>\n",
       "      <th>friends</th>\n",
       "      <th>likes</th>\n",
       "      <th>retweets</th>\n",
       "      <th>text</th>\n",
       "      <th>user_description</th>\n",
       "      <th>user_location</th>\n",
       "    </tr>\n",
       "  </thead>\n",
       "  <tbody>\n",
       "    <tr>\n",
       "      <th>0</th>\n",
       "      <td>2019-08-16 06:49:27</td>\n",
       "      <td>Rohitsingh</td>\n",
       "      <td>26.0</td>\n",
       "      <td>131.0</td>\n",
       "      <td>0.0</td>\n",
       "      <td>0.0</td>\n",
       "      <td>@Box_Off_India #BatlaHouseBlockbuster</td>\n",
       "      <td>still student</td>\n",
       "      <td>India</td>\n",
       "    </tr>\n",
       "    <tr>\n",
       "      <th>1</th>\n",
       "      <td>2019-08-16 06:49:18</td>\n",
       "      <td>Rohitsingh</td>\n",
       "      <td>26.0</td>\n",
       "      <td>131.0</td>\n",
       "      <td>0.0</td>\n",
       "      <td>0.0</td>\n",
       "      <td>@KRKBoxOffice #BatlaHouseBlockbuster</td>\n",
       "      <td>still student</td>\n",
       "      <td>India</td>\n",
       "    </tr>\n",
       "    <tr>\n",
       "      <th>2</th>\n",
       "      <td>2019-08-16 06:49:17</td>\n",
       "      <td>MJ Back 45</td>\n",
       "      <td>224.0</td>\n",
       "      <td>258.0</td>\n",
       "      <td>0.0</td>\n",
       "      <td>0.0</td>\n",
       "      <td>#BatlaHouseBlockbuster Go nd watch batlahouse ...</td>\n",
       "      <td>john abraham ka😍😍 fan</td>\n",
       "      <td></td>\n",
       "    </tr>\n",
       "    <tr>\n",
       "      <th>3</th>\n",
       "      <td>2019-08-16 06:49:13</td>\n",
       "      <td>Crazy 4 Bollywood ♥️</td>\n",
       "      <td>214.0</td>\n",
       "      <td>178.0</td>\n",
       "      <td>0.0</td>\n",
       "      <td>0.0</td>\n",
       "      <td>#BatlaHouseBlockbuster is trending all over !\\...</td>\n",
       "      <td>One of Biggest Bollywood News Channel on YT &amp; ...</td>\n",
       "      <td>Mumbai</td>\n",
       "    </tr>\n",
       "    <tr>\n",
       "      <th>4</th>\n",
       "      <td>2019-08-16 06:49:12</td>\n",
       "      <td>Rohitsingh</td>\n",
       "      <td>26.0</td>\n",
       "      <td>131.0</td>\n",
       "      <td>0.0</td>\n",
       "      <td>4.0</td>\n",
       "      <td>RT @MJBack451: #BatlaHouseBlockbuster</td>\n",
       "      <td>still student</td>\n",
       "      <td>India</td>\n",
       "    </tr>\n",
       "  </tbody>\n",
       "</table>\n",
       "</div>"
      ],
      "text/plain": [
       "           created_at           dispay_name  followers  friends  likes  \\\n",
       "0 2019-08-16 06:49:27            Rohitsingh       26.0    131.0    0.0   \n",
       "1 2019-08-16 06:49:18            Rohitsingh       26.0    131.0    0.0   \n",
       "2 2019-08-16 06:49:17            MJ Back 45      224.0    258.0    0.0   \n",
       "3 2019-08-16 06:49:13  Crazy 4 Bollywood ♥️      214.0    178.0    0.0   \n",
       "4 2019-08-16 06:49:12            Rohitsingh       26.0    131.0    0.0   \n",
       "\n",
       "   retweets                                               text  \\\n",
       "0       0.0              @Box_Off_India #BatlaHouseBlockbuster   \n",
       "1       0.0               @KRKBoxOffice #BatlaHouseBlockbuster   \n",
       "2       0.0  #BatlaHouseBlockbuster Go nd watch batlahouse ...   \n",
       "3       0.0  #BatlaHouseBlockbuster is trending all over !\\...   \n",
       "4       4.0              RT @MJBack451: #BatlaHouseBlockbuster   \n",
       "\n",
       "                                    user_description user_location  \n",
       "0                                      still student         India  \n",
       "1                                      still student         India  \n",
       "2                              john abraham ka😍😍 fan                \n",
       "3  One of Biggest Bollywood News Channel on YT & ...        Mumbai  \n",
       "4                                      still student         India  "
      ]
     },
     "execution_count": 19,
     "metadata": {},
     "output_type": "execute_result"
    }
   ],
   "source": [
    "df = pd.DataFrame()\n",
    "for tweet in tweets:\n",
    "    #print(tweet.user.location)\n",
    "    #print(tweet.user.name)\n",
    "    #print(tweet.user.name, tweet.user.screen_name)\n",
    "    #print(tweet.user.friends_count,tweet.user.description)\n",
    "    #print('------------')\n",
    "    #print(tweet)\n",
    "    curr_tweet={\n",
    "        'dispay_name':tweet.user.name,\n",
    "        'text':tweet.text,\n",
    "        'created_at':tweet.created_at,\n",
    "        'followers':tweet.user.followers_count,\n",
    "        'friends':tweet.user.friends_count,\n",
    "        'user_description':tweet.user.description,\n",
    "        'likes':tweet.favorite_count,\n",
    "        'user_location':tweet.user.location,\n",
    "        'retweets':tweet.retweet_count\n",
    "    }\n",
    "    \n",
    "    df = tweets_df.append(curr_tweet,  ignore_index=True)\n",
    "df.head()"
   ]
  },
  {
   "cell_type": "code",
   "execution_count": 15,
   "metadata": {},
   "outputs": [],
   "source": [
    "import numpy as np\n",
    "import pandas as pd\n",
    "import string\n",
    "import nltk\n",
    "from sklearn import preprocessing\n",
    "from sklearn.feature_extraction.text import CountVectorizer,TfidfVectorizer\n",
    "from sklearn.model_selection import train_test_split\n",
    "from nltk.corpus import stopwords\n",
    "from nltk.stem.snowball import SnowballStemmer\n",
    "from matplotlib import pyplot as plt"
   ]
  },
  {
   "cell_type": "code",
   "execution_count": 21,
   "metadata": {},
   "outputs": [
    {
     "name": "stdout",
     "output_type": "stream",
     "text": [
      "@Box_Off_India #BatlaHouseBlockbuster\n"
     ]
    }
   ],
   "source": [
    "#Lets take the review_text_columns from the data\n",
    "text=df[['text']]\n",
    "print(text['text'][0])"
   ]
  },
  {
   "cell_type": "code",
   "execution_count": 22,
   "metadata": {},
   "outputs": [
    {
     "data": {
      "text/plain": [
       "(101, 9)"
      ]
     },
     "execution_count": 22,
     "metadata": {},
     "output_type": "execute_result"
    }
   ],
   "source": [
    "df.shape"
   ]
  },
  {
   "cell_type": "code",
   "execution_count": 23,
   "metadata": {},
   "outputs": [
    {
     "name": "stdout",
     "output_type": "stream",
     "text": [
      "boxoffindia batlahouseblockbuster\n"
     ]
    },
    {
     "name": "stderr",
     "output_type": "stream",
     "text": [
      "C:\\Users\\Lenovo\\Anaconda3\\lib\\site-packages\\ipykernel_launcher.py:2: SettingWithCopyWarning: \n",
      "A value is trying to be set on a copy of a slice from a DataFrame.\n",
      "Try using .loc[row_indexer,col_indexer] = value instead\n",
      "\n",
      "See the caveats in the documentation: http://pandas.pydata.org/pandas-docs/stable/indexing.html#indexing-view-versus-copy\n",
      "  \n"
     ]
    }
   ],
   "source": [
    "#Step=1 Convert every string into lower case\n",
    "text['Clean_text'] = text['text'].str.lower().str.replace('[^a-z ]','')\n",
    "print(text['Clean_text'][0])"
   ]
  },
  {
   "cell_type": "code",
   "execution_count": 24,
   "metadata": {},
   "outputs": [
    {
     "name": "stderr",
     "output_type": "stream",
     "text": [
      "[nltk_data] Downloading package stopwords to\n",
      "[nltk_data]     C:\\Users\\Lenovo\\AppData\\Roaming\\nltk_data...\n",
      "[nltk_data]   Package stopwords is already up-to-date!\n"
     ]
    },
    {
     "data": {
      "text/plain": [
       "True"
      ]
     },
     "execution_count": 24,
     "metadata": {},
     "output_type": "execute_result"
    }
   ],
   "source": [
    "import nltk\n",
    "nltk.download('stopwords')"
   ]
  },
  {
   "cell_type": "code",
   "execution_count": 26,
   "metadata": {},
   "outputs": [
    {
     "name": "stdout",
     "output_type": "stream",
     "text": [
      "boxoffindia batlahouseblockbuster\n"
     ]
    },
    {
     "name": "stderr",
     "output_type": "stream",
     "text": [
      "C:\\Users\\Lenovo\\Anaconda3\\lib\\site-packages\\ipykernel_launcher.py:10: SettingWithCopyWarning: \n",
      "A value is trying to be set on a copy of a slice from a DataFrame.\n",
      "Try using .loc[row_indexer,col_indexer] = value instead\n",
      "\n",
      "See the caveats in the documentation: http://pandas.pydata.org/pandas-docs/stable/indexing.html#indexing-view-versus-copy\n",
      "  # Remove the CWD from sys.path while we load stuff.\n"
     ]
    }
   ],
   "source": [
    "#Remoce the stop words\n",
    "stop = set(stopwords.words('english'))\n",
    "\n",
    "def sw(text):\n",
    "    text=[word for word in text.split() if word not in stop]\n",
    "    return \" \".join(text)\n",
    "    \n",
    "#Appplying the sw on clean_text colum\n",
    "\n",
    "text['Split_words'] = text['Clean_text'].apply(sw)\n",
    "print(text['Split_words'][0])"
   ]
  },
  {
   "cell_type": "code",
   "execution_count": 27,
   "metadata": {},
   "outputs": [
    {
     "data": {
      "text/plain": [
       "CountVectorizer(analyzer='word', binary=False, decode_error='strict',\n",
       "                dtype=<class 'numpy.int64'>, encoding='utf-8', input='content',\n",
       "                lowercase=True, max_df=1.0, max_features=None, min_df=1,\n",
       "                ngram_range=(2, 2), preprocessor=None, stop_words=None,\n",
       "                strip_accents=None, token_pattern='(?u)\\\\b\\\\w\\\\w+\\\\b',\n",
       "                tokenizer=None, vocabulary=None)"
      ]
     },
     "execution_count": 27,
     "metadata": {},
     "output_type": "execute_result"
    }
   ],
   "source": [
    "#Creating the count vectorizer\n",
    "bigram_count_vect = CountVectorizer(ngram_range=(2,2))\n",
    "#Fitting the count vect on split words\n",
    "bigram_count_vect.fit(text['Split_words'])"
   ]
  },
  {
   "cell_type": "code",
   "execution_count": 28,
   "metadata": {},
   "outputs": [
    {
     "data": {
      "text/plain": [
       "<101x397 sparse matrix of type '<class 'numpy.int64'>'\n",
       "\twith 690 stored elements in Compressed Sparse Row format>"
      ]
     },
     "execution_count": 28,
     "metadata": {},
     "output_type": "execute_result"
    }
   ],
   "source": [
    "#DTM\n",
    "Z = bigram_count_vect.fit_transform(text['Split_words'])\n",
    "Z"
   ]
  },
  {
   "cell_type": "code",
   "execution_count": 29,
   "metadata": {},
   "outputs": [
    {
     "data": {
      "text/html": [
       "<div>\n",
       "<style scoped>\n",
       "    .dataframe tbody tr th:only-of-type {\n",
       "        vertical-align: middle;\n",
       "    }\n",
       "\n",
       "    .dataframe tbody tr th {\n",
       "        vertical-align: top;\n",
       "    }\n",
       "\n",
       "    .dataframe thead th {\n",
       "        text-align: right;\n",
       "    }\n",
       "</style>\n",
       "<table border=\"1\" class=\"dataframe\">\n",
       "  <thead>\n",
       "    <tr style=\"text-align: right;\">\n",
       "      <th></th>\n",
       "      <th>abraham movie</th>\n",
       "      <th>aced httpstcohazthudpbq</th>\n",
       "      <th>action emotions</th>\n",
       "      <th>action movie</th>\n",
       "      <th>action must</th>\n",
       "      <th>action thrill</th>\n",
       "      <th>action thriller</th>\n",
       "      <th>ago answered</th>\n",
       "      <th>akshaykumar seeing</th>\n",
       "      <th>alikehkasha curious</th>\n",
       "      <th>...</th>\n",
       "      <th>wohwalaladka koi</th>\n",
       "      <th>wohwalaladka saaaki</th>\n",
       "      <th>wohwalaladka suppperrhiittt</th>\n",
       "      <th>wohwalaladka treding</th>\n",
       "      <th>world religion</th>\n",
       "      <th>writish ravikishann</th>\n",
       "      <th>yar rock</th>\n",
       "      <th>year ago</th>\n",
       "      <th>yesterday today</th>\n",
       "      <th>yinwoman batlahouseblockbuster</th>\n",
       "    </tr>\n",
       "  </thead>\n",
       "  <tbody>\n",
       "    <tr>\n",
       "      <th>0</th>\n",
       "      <td>0</td>\n",
       "      <td>0</td>\n",
       "      <td>0</td>\n",
       "      <td>0</td>\n",
       "      <td>0</td>\n",
       "      <td>0</td>\n",
       "      <td>0</td>\n",
       "      <td>0</td>\n",
       "      <td>0</td>\n",
       "      <td>0</td>\n",
       "      <td>...</td>\n",
       "      <td>0</td>\n",
       "      <td>0</td>\n",
       "      <td>0</td>\n",
       "      <td>0</td>\n",
       "      <td>0</td>\n",
       "      <td>0</td>\n",
       "      <td>0</td>\n",
       "      <td>0</td>\n",
       "      <td>0</td>\n",
       "      <td>0</td>\n",
       "    </tr>\n",
       "    <tr>\n",
       "      <th>1</th>\n",
       "      <td>0</td>\n",
       "      <td>0</td>\n",
       "      <td>0</td>\n",
       "      <td>0</td>\n",
       "      <td>0</td>\n",
       "      <td>0</td>\n",
       "      <td>0</td>\n",
       "      <td>0</td>\n",
       "      <td>0</td>\n",
       "      <td>0</td>\n",
       "      <td>...</td>\n",
       "      <td>0</td>\n",
       "      <td>0</td>\n",
       "      <td>0</td>\n",
       "      <td>0</td>\n",
       "      <td>0</td>\n",
       "      <td>0</td>\n",
       "      <td>0</td>\n",
       "      <td>0</td>\n",
       "      <td>0</td>\n",
       "      <td>0</td>\n",
       "    </tr>\n",
       "    <tr>\n",
       "      <th>2</th>\n",
       "      <td>0</td>\n",
       "      <td>0</td>\n",
       "      <td>0</td>\n",
       "      <td>0</td>\n",
       "      <td>0</td>\n",
       "      <td>0</td>\n",
       "      <td>0</td>\n",
       "      <td>0</td>\n",
       "      <td>0</td>\n",
       "      <td>0</td>\n",
       "      <td>...</td>\n",
       "      <td>0</td>\n",
       "      <td>0</td>\n",
       "      <td>0</td>\n",
       "      <td>0</td>\n",
       "      <td>0</td>\n",
       "      <td>0</td>\n",
       "      <td>0</td>\n",
       "      <td>0</td>\n",
       "      <td>0</td>\n",
       "      <td>0</td>\n",
       "    </tr>\n",
       "    <tr>\n",
       "      <th>3</th>\n",
       "      <td>0</td>\n",
       "      <td>0</td>\n",
       "      <td>0</td>\n",
       "      <td>0</td>\n",
       "      <td>0</td>\n",
       "      <td>0</td>\n",
       "      <td>0</td>\n",
       "      <td>0</td>\n",
       "      <td>0</td>\n",
       "      <td>0</td>\n",
       "      <td>...</td>\n",
       "      <td>0</td>\n",
       "      <td>0</td>\n",
       "      <td>0</td>\n",
       "      <td>0</td>\n",
       "      <td>0</td>\n",
       "      <td>0</td>\n",
       "      <td>0</td>\n",
       "      <td>0</td>\n",
       "      <td>0</td>\n",
       "      <td>0</td>\n",
       "    </tr>\n",
       "    <tr>\n",
       "      <th>4</th>\n",
       "      <td>0</td>\n",
       "      <td>0</td>\n",
       "      <td>0</td>\n",
       "      <td>0</td>\n",
       "      <td>0</td>\n",
       "      <td>0</td>\n",
       "      <td>0</td>\n",
       "      <td>0</td>\n",
       "      <td>0</td>\n",
       "      <td>0</td>\n",
       "      <td>...</td>\n",
       "      <td>0</td>\n",
       "      <td>0</td>\n",
       "      <td>0</td>\n",
       "      <td>0</td>\n",
       "      <td>0</td>\n",
       "      <td>0</td>\n",
       "      <td>0</td>\n",
       "      <td>0</td>\n",
       "      <td>0</td>\n",
       "      <td>0</td>\n",
       "    </tr>\n",
       "  </tbody>\n",
       "</table>\n",
       "<p>5 rows × 397 columns</p>\n",
       "</div>"
      ],
      "text/plain": [
       "   abraham movie  aced httpstcohazthudpbq  action emotions  action movie  \\\n",
       "0              0                        0                0             0   \n",
       "1              0                        0                0             0   \n",
       "2              0                        0                0             0   \n",
       "3              0                        0                0             0   \n",
       "4              0                        0                0             0   \n",
       "\n",
       "   action must  action thrill  action thriller  ago answered  \\\n",
       "0            0              0                0             0   \n",
       "1            0              0                0             0   \n",
       "2            0              0                0             0   \n",
       "3            0              0                0             0   \n",
       "4            0              0                0             0   \n",
       "\n",
       "   akshaykumar seeing  alikehkasha curious               ...                \\\n",
       "0                   0                    0               ...                 \n",
       "1                   0                    0               ...                 \n",
       "2                   0                    0               ...                 \n",
       "3                   0                    0               ...                 \n",
       "4                   0                    0               ...                 \n",
       "\n",
       "   wohwalaladka koi  wohwalaladka saaaki  wohwalaladka suppperrhiittt  \\\n",
       "0                 0                    0                            0   \n",
       "1                 0                    0                            0   \n",
       "2                 0                    0                            0   \n",
       "3                 0                    0                            0   \n",
       "4                 0                    0                            0   \n",
       "\n",
       "   wohwalaladka treding  world religion  writish ravikishann  yar rock  \\\n",
       "0                     0               0                    0         0   \n",
       "1                     0               0                    0         0   \n",
       "2                     0               0                    0         0   \n",
       "3                     0               0                    0         0   \n",
       "4                     0               0                    0         0   \n",
       "\n",
       "   year ago  yesterday today  yinwoman batlahouseblockbuster  \n",
       "0         0                0                               0  \n",
       "1         0                0                               0  \n",
       "2         0                0                               0  \n",
       "3         0                0                               0  \n",
       "4         0                0                               0  \n",
       "\n",
       "[5 rows x 397 columns]"
      ]
     },
     "execution_count": 29,
     "metadata": {},
     "output_type": "execute_result"
    }
   ],
   "source": [
    "#Converting it into a two array part of it\n",
    "#Dtm matrix\n",
    "DTM_bigram = pd.DataFrame(Z.toarray(),columns=bigram_count_vect.get_feature_names())\n",
    "DTM_bigram.head()"
   ]
  },
  {
   "cell_type": "code",
   "execution_count": 30,
   "metadata": {},
   "outputs": [
    {
     "data": {
      "text/html": [
       "<div>\n",
       "<style scoped>\n",
       "    .dataframe tbody tr th:only-of-type {\n",
       "        vertical-align: middle;\n",
       "    }\n",
       "\n",
       "    .dataframe tbody tr th {\n",
       "        vertical-align: top;\n",
       "    }\n",
       "\n",
       "    .dataframe thead th {\n",
       "        text-align: right;\n",
       "    }\n",
       "</style>\n",
       "<table border=\"1\" class=\"dataframe\">\n",
       "  <thead>\n",
       "    <tr style=\"text-align: right;\">\n",
       "      <th></th>\n",
       "      <th>Word</th>\n",
       "      <th>Count</th>\n",
       "    </tr>\n",
       "  </thead>\n",
       "  <tbody>\n",
       "    <tr>\n",
       "      <th>30</th>\n",
       "      <td>batlahouseblockbuster batlahouseblockbuster</td>\n",
       "      <td>28</td>\n",
       "    </tr>\n",
       "    <tr>\n",
       "      <th>25</th>\n",
       "      <td>batla house</td>\n",
       "      <td>23</td>\n",
       "    </tr>\n",
       "    <tr>\n",
       "      <th>284</th>\n",
       "      <td>rt mjback</td>\n",
       "      <td>21</td>\n",
       "    </tr>\n",
       "    <tr>\n",
       "      <th>200</th>\n",
       "      <td>mjback batlahouseblockbuster</td>\n",
       "      <td>19</td>\n",
       "    </tr>\n",
       "    <tr>\n",
       "      <th>152</th>\n",
       "      <td>house movie</td>\n",
       "      <td>8</td>\n",
       "    </tr>\n",
       "  </tbody>\n",
       "</table>\n",
       "</div>"
      ],
      "text/plain": [
       "                                            Word  Count\n",
       "30   batlahouseblockbuster batlahouseblockbuster     28\n",
       "25                                   batla house     23\n",
       "284                                    rt mjback     21\n",
       "200                 mjback batlahouseblockbuster     19\n",
       "152                                  house movie      8"
      ]
     },
     "execution_count": 30,
     "metadata": {},
     "output_type": "execute_result"
    }
   ],
   "source": [
    "#Greq. table from the DTM\n",
    "word_cout_freq_bigram = DTM_bigram.sum()\n",
    "word_cout_freq_bigram\n",
    "#Convert in into a Data Frame\n",
    "word_table_bigram = pd.DataFrame(word_cout_freq_bigram).reset_index()\n",
    "word_table_bigram = word_table_bigram.rename(columns={'index':\"Word\",0:'Count'})\n",
    "word_table_bigram.sort_values(by='Count',ascending=False).head()"
   ]
  },
  {
   "cell_type": "code",
   "execution_count": 31,
   "metadata": {},
   "outputs": [],
   "source": [
    "#TD IDF for Bigram"
   ]
  },
  {
   "cell_type": "code",
   "execution_count": 32,
   "metadata": {},
   "outputs": [
    {
     "data": {
      "text/plain": [
       "TfidfVectorizer(analyzer='word', binary=False, decode_error='strict',\n",
       "                dtype=<class 'numpy.float64'>, encoding='utf-8',\n",
       "                input='content', lowercase=True, max_df=1.0, max_features=None,\n",
       "                min_df=1, ngram_range=(2, 2), norm='l2', preprocessor=None,\n",
       "                smooth_idf=True, stop_words=None, strip_accents=None,\n",
       "                sublinear_tf=False, token_pattern='(?u)\\\\b\\\\w\\\\w+\\\\b',\n",
       "                tokenizer=None, use_idf=True, vocabulary=None)"
      ]
     },
     "execution_count": 32,
     "metadata": {},
     "output_type": "execute_result"
    }
   ],
   "source": [
    "#Creating the count vectorizer\n",
    "bigram_tfidf_vect = TfidfVectorizer(ngram_range=(2,2))\n",
    "#Fitting the count vect on split words\n",
    "bigram_tfidf_vect.fit(text['Split_words'])"
   ]
  },
  {
   "cell_type": "code",
   "execution_count": 33,
   "metadata": {},
   "outputs": [
    {
     "data": {
      "text/plain": [
       "<101x397 sparse matrix of type '<class 'numpy.float64'>'\n",
       "\twith 690 stored elements in Compressed Sparse Row format>"
      ]
     },
     "execution_count": 33,
     "metadata": {},
     "output_type": "execute_result"
    }
   ],
   "source": [
    "#DTM\n",
    "Z = bigram_tfidf_vect.fit_transform(text['Split_words'])\n",
    "Z"
   ]
  },
  {
   "cell_type": "code",
   "execution_count": 34,
   "metadata": {},
   "outputs": [
    {
     "data": {
      "text/html": [
       "<div>\n",
       "<style scoped>\n",
       "    .dataframe tbody tr th:only-of-type {\n",
       "        vertical-align: middle;\n",
       "    }\n",
       "\n",
       "    .dataframe tbody tr th {\n",
       "        vertical-align: top;\n",
       "    }\n",
       "\n",
       "    .dataframe thead th {\n",
       "        text-align: right;\n",
       "    }\n",
       "</style>\n",
       "<table border=\"1\" class=\"dataframe\">\n",
       "  <thead>\n",
       "    <tr style=\"text-align: right;\">\n",
       "      <th></th>\n",
       "      <th>abraham movie</th>\n",
       "      <th>aced httpstcohazthudpbq</th>\n",
       "      <th>action emotions</th>\n",
       "      <th>action movie</th>\n",
       "      <th>action must</th>\n",
       "      <th>action thrill</th>\n",
       "      <th>action thriller</th>\n",
       "      <th>ago answered</th>\n",
       "      <th>akshaykumar seeing</th>\n",
       "      <th>alikehkasha curious</th>\n",
       "      <th>...</th>\n",
       "      <th>wohwalaladka koi</th>\n",
       "      <th>wohwalaladka saaaki</th>\n",
       "      <th>wohwalaladka suppperrhiittt</th>\n",
       "      <th>wohwalaladka treding</th>\n",
       "      <th>world religion</th>\n",
       "      <th>writish ravikishann</th>\n",
       "      <th>yar rock</th>\n",
       "      <th>year ago</th>\n",
       "      <th>yesterday today</th>\n",
       "      <th>yinwoman batlahouseblockbuster</th>\n",
       "    </tr>\n",
       "  </thead>\n",
       "  <tbody>\n",
       "    <tr>\n",
       "      <th>0</th>\n",
       "      <td>0.0</td>\n",
       "      <td>0.0</td>\n",
       "      <td>0.0</td>\n",
       "      <td>0.0</td>\n",
       "      <td>0.0</td>\n",
       "      <td>0.0</td>\n",
       "      <td>0.0</td>\n",
       "      <td>0.0</td>\n",
       "      <td>0.0</td>\n",
       "      <td>0.0</td>\n",
       "      <td>...</td>\n",
       "      <td>0.0</td>\n",
       "      <td>0.0</td>\n",
       "      <td>0.0</td>\n",
       "      <td>0.0</td>\n",
       "      <td>0.0</td>\n",
       "      <td>0.0</td>\n",
       "      <td>0.0</td>\n",
       "      <td>0.0</td>\n",
       "      <td>0.0</td>\n",
       "      <td>0.0</td>\n",
       "    </tr>\n",
       "    <tr>\n",
       "      <th>1</th>\n",
       "      <td>0.0</td>\n",
       "      <td>0.0</td>\n",
       "      <td>0.0</td>\n",
       "      <td>0.0</td>\n",
       "      <td>0.0</td>\n",
       "      <td>0.0</td>\n",
       "      <td>0.0</td>\n",
       "      <td>0.0</td>\n",
       "      <td>0.0</td>\n",
       "      <td>0.0</td>\n",
       "      <td>...</td>\n",
       "      <td>0.0</td>\n",
       "      <td>0.0</td>\n",
       "      <td>0.0</td>\n",
       "      <td>0.0</td>\n",
       "      <td>0.0</td>\n",
       "      <td>0.0</td>\n",
       "      <td>0.0</td>\n",
       "      <td>0.0</td>\n",
       "      <td>0.0</td>\n",
       "      <td>0.0</td>\n",
       "    </tr>\n",
       "    <tr>\n",
       "      <th>2</th>\n",
       "      <td>0.0</td>\n",
       "      <td>0.0</td>\n",
       "      <td>0.0</td>\n",
       "      <td>0.0</td>\n",
       "      <td>0.0</td>\n",
       "      <td>0.0</td>\n",
       "      <td>0.0</td>\n",
       "      <td>0.0</td>\n",
       "      <td>0.0</td>\n",
       "      <td>0.0</td>\n",
       "      <td>...</td>\n",
       "      <td>0.0</td>\n",
       "      <td>0.0</td>\n",
       "      <td>0.0</td>\n",
       "      <td>0.0</td>\n",
       "      <td>0.0</td>\n",
       "      <td>0.0</td>\n",
       "      <td>0.0</td>\n",
       "      <td>0.0</td>\n",
       "      <td>0.0</td>\n",
       "      <td>0.0</td>\n",
       "    </tr>\n",
       "    <tr>\n",
       "      <th>3</th>\n",
       "      <td>0.0</td>\n",
       "      <td>0.0</td>\n",
       "      <td>0.0</td>\n",
       "      <td>0.0</td>\n",
       "      <td>0.0</td>\n",
       "      <td>0.0</td>\n",
       "      <td>0.0</td>\n",
       "      <td>0.0</td>\n",
       "      <td>0.0</td>\n",
       "      <td>0.0</td>\n",
       "      <td>...</td>\n",
       "      <td>0.0</td>\n",
       "      <td>0.0</td>\n",
       "      <td>0.0</td>\n",
       "      <td>0.0</td>\n",
       "      <td>0.0</td>\n",
       "      <td>0.0</td>\n",
       "      <td>0.0</td>\n",
       "      <td>0.0</td>\n",
       "      <td>0.0</td>\n",
       "      <td>0.0</td>\n",
       "    </tr>\n",
       "    <tr>\n",
       "      <th>4</th>\n",
       "      <td>0.0</td>\n",
       "      <td>0.0</td>\n",
       "      <td>0.0</td>\n",
       "      <td>0.0</td>\n",
       "      <td>0.0</td>\n",
       "      <td>0.0</td>\n",
       "      <td>0.0</td>\n",
       "      <td>0.0</td>\n",
       "      <td>0.0</td>\n",
       "      <td>0.0</td>\n",
       "      <td>...</td>\n",
       "      <td>0.0</td>\n",
       "      <td>0.0</td>\n",
       "      <td>0.0</td>\n",
       "      <td>0.0</td>\n",
       "      <td>0.0</td>\n",
       "      <td>0.0</td>\n",
       "      <td>0.0</td>\n",
       "      <td>0.0</td>\n",
       "      <td>0.0</td>\n",
       "      <td>0.0</td>\n",
       "    </tr>\n",
       "  </tbody>\n",
       "</table>\n",
       "<p>5 rows × 397 columns</p>\n",
       "</div>"
      ],
      "text/plain": [
       "   abraham movie  aced httpstcohazthudpbq  action emotions  action movie  \\\n",
       "0            0.0                      0.0              0.0           0.0   \n",
       "1            0.0                      0.0              0.0           0.0   \n",
       "2            0.0                      0.0              0.0           0.0   \n",
       "3            0.0                      0.0              0.0           0.0   \n",
       "4            0.0                      0.0              0.0           0.0   \n",
       "\n",
       "   action must  action thrill  action thriller  ago answered  \\\n",
       "0          0.0            0.0              0.0           0.0   \n",
       "1          0.0            0.0              0.0           0.0   \n",
       "2          0.0            0.0              0.0           0.0   \n",
       "3          0.0            0.0              0.0           0.0   \n",
       "4          0.0            0.0              0.0           0.0   \n",
       "\n",
       "   akshaykumar seeing  alikehkasha curious               ...                \\\n",
       "0                 0.0                  0.0               ...                 \n",
       "1                 0.0                  0.0               ...                 \n",
       "2                 0.0                  0.0               ...                 \n",
       "3                 0.0                  0.0               ...                 \n",
       "4                 0.0                  0.0               ...                 \n",
       "\n",
       "   wohwalaladka koi  wohwalaladka saaaki  wohwalaladka suppperrhiittt  \\\n",
       "0               0.0                  0.0                          0.0   \n",
       "1               0.0                  0.0                          0.0   \n",
       "2               0.0                  0.0                          0.0   \n",
       "3               0.0                  0.0                          0.0   \n",
       "4               0.0                  0.0                          0.0   \n",
       "\n",
       "   wohwalaladka treding  world religion  writish ravikishann  yar rock  \\\n",
       "0                   0.0             0.0                  0.0       0.0   \n",
       "1                   0.0             0.0                  0.0       0.0   \n",
       "2                   0.0             0.0                  0.0       0.0   \n",
       "3                   0.0             0.0                  0.0       0.0   \n",
       "4                   0.0             0.0                  0.0       0.0   \n",
       "\n",
       "   year ago  yesterday today  yinwoman batlahouseblockbuster  \n",
       "0       0.0              0.0                             0.0  \n",
       "1       0.0              0.0                             0.0  \n",
       "2       0.0              0.0                             0.0  \n",
       "3       0.0              0.0                             0.0  \n",
       "4       0.0              0.0                             0.0  \n",
       "\n",
       "[5 rows x 397 columns]"
      ]
     },
     "execution_count": 34,
     "metadata": {},
     "output_type": "execute_result"
    }
   ],
   "source": [
    "#Converting it into a two array part of it\n",
    "#Dtm matrix\n",
    "DTM_bigram_tfidf = pd.DataFrame(Z.toarray(),columns=bigram_tfidf_vect.get_feature_names())\n",
    "DTM_bigram_tfidf.head()"
   ]
  },
  {
   "cell_type": "code",
   "execution_count": 35,
   "metadata": {},
   "outputs": [
    {
     "data": {
      "text/html": [
       "<div>\n",
       "<style scoped>\n",
       "    .dataframe tbody tr th:only-of-type {\n",
       "        vertical-align: middle;\n",
       "    }\n",
       "\n",
       "    .dataframe tbody tr th {\n",
       "        vertical-align: top;\n",
       "    }\n",
       "\n",
       "    .dataframe thead th {\n",
       "        text-align: right;\n",
       "    }\n",
       "</style>\n",
       "<table border=\"1\" class=\"dataframe\">\n",
       "  <thead>\n",
       "    <tr style=\"text-align: right;\">\n",
       "      <th></th>\n",
       "      <th>Word</th>\n",
       "      <th>Score</th>\n",
       "    </tr>\n",
       "  </thead>\n",
       "  <tbody>\n",
       "    <tr>\n",
       "      <th>30</th>\n",
       "      <td>batlahouseblockbuster batlahouseblockbuster</td>\n",
       "      <td>8.463889</td>\n",
       "    </tr>\n",
       "    <tr>\n",
       "      <th>284</th>\n",
       "      <td>rt mjback</td>\n",
       "      <td>8.346149</td>\n",
       "    </tr>\n",
       "    <tr>\n",
       "      <th>200</th>\n",
       "      <td>mjback batlahouseblockbuster</td>\n",
       "      <td>8.207007</td>\n",
       "    </tr>\n",
       "    <tr>\n",
       "      <th>25</th>\n",
       "      <td>batla house</td>\n",
       "      <td>4.051222</td>\n",
       "    </tr>\n",
       "    <tr>\n",
       "      <th>20</th>\n",
       "      <td>awesome movie</td>\n",
       "      <td>2.785308</td>\n",
       "    </tr>\n",
       "  </tbody>\n",
       "</table>\n",
       "</div>"
      ],
      "text/plain": [
       "                                            Word     Score\n",
       "30   batlahouseblockbuster batlahouseblockbuster  8.463889\n",
       "284                                    rt mjback  8.346149\n",
       "200                 mjback batlahouseblockbuster  8.207007\n",
       "25                                   batla house  4.051222\n",
       "20                                 awesome movie  2.785308"
      ]
     },
     "execution_count": 35,
     "metadata": {},
     "output_type": "execute_result"
    }
   ],
   "source": [
    "#Greq. table from the DTM\n",
    "word_tfidf_bigram = DTM_bigram_tfidf.sum()\n",
    "word_tfidf_bigram\n",
    "#Convert in into a Data Frame\n",
    "word_table_bigram_tfidf = pd.DataFrame(word_tfidf_bigram).reset_index()\n",
    "word_table_bigram_tfidf = word_table_bigram_tfidf.rename(columns={'index':\"Word\",0:'Score'})\n",
    "word_table_bigram_tfidf.sort_values(by='Score',ascending=False).head()"
   ]
  },
  {
   "cell_type": "code",
   "execution_count": null,
   "metadata": {},
   "outputs": [],
   "source": [
    "#"
   ]
  }
 ],
 "metadata": {
  "kernelspec": {
   "display_name": "Python 3",
   "language": "python",
   "name": "python3"
  },
  "language_info": {
   "codemirror_mode": {
    "name": "ipython",
    "version": 3
   },
   "file_extension": ".py",
   "mimetype": "text/x-python",
   "name": "python",
   "nbconvert_exporter": "python",
   "pygments_lexer": "ipython3",
   "version": "3.7.1"
  }
 },
 "nbformat": 4,
 "nbformat_minor": 2
}
