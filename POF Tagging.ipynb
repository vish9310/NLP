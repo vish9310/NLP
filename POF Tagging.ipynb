{
 "cells": [
  {
   "cell_type": "code",
   "execution_count": 2,
   "metadata": {},
   "outputs": [],
   "source": [
    "import nltk\n",
    "from nltk import pos_tag, word_tokenize\n",
    "text = word_tokenize(\"Hello welcome to the world of learning Categorizing and POS Tagging with NLTK and Python\")\n",
    "nltk.pos_tag(text)\n",
    "# Printing only nouns from the text\n",
    "is_noun = lambda x: x[:3] == 'NNP'\n",
    "nouns = [word for (word, x) in pos_tag(text) if is_noun(x)]"
   ]
  },
  {
   "cell_type": "code",
   "execution_count": null,
   "metadata": {},
   "outputs": [],
   "source": []
  }
 ],
 "metadata": {
  "kernelspec": {
   "display_name": "Python 3",
   "language": "python",
   "name": "python3"
  },
  "language_info": {
   "codemirror_mode": {
    "name": "ipython",
    "version": 3
   },
   "file_extension": ".py",
   "mimetype": "text/x-python",
   "name": "python",
   "nbconvert_exporter": "python",
   "pygments_lexer": "ipython3",
   "version": "3.7.1"
  }
 },
 "nbformat": 4,
 "nbformat_minor": 2
}
